{
 "cells": [
  {
   "cell_type": "markdown",
   "id": "7cbfdc88-90f7-439b-8e7c-96a2a6f37b67",
   "metadata": {},
   "source": [
    "### Dataset: \n",
    "OR_ABI-L1b-RadF-M6C01_G16_s20202570900189_e20202570909497_c20202570909552.nc"
   ]
  },
  {
   "cell_type": "code",
   "execution_count": 3,
   "id": "f05c78ba-6be9-4792-8ee4-34c3b318bc54",
   "metadata": {},
   "outputs": [],
   "source": [
    "import pandas as pd\n",
    "import xarray as xr\n",
    "\n",
    "data = xr.open_dataset('OR_ABI-L1b-RadF-M6C01_G16_s20202570900189_e20202570909497_c20202570909552.nc')"
   ]
  },
  {
   "cell_type": "code",
   "execution_count": 17,
   "id": "c5fb6fa0-a4fc-4b9d-a025-9f34e63f4f35",
   "metadata": {},
   "outputs": [
    {
     "name": "stdout",
     "output_type": "stream",
     "text": [
      "<xarray.DataArray 'band_wavelength' (band: 1)>\n",
      "[1 values with dtype=float32]\n",
      "Coordinates:\n",
      "    t                datetime64[ns] ...\n",
      "    y_image          float32 ...\n",
      "    x_image          float32 ...\n",
      "    band_id          (band) int8 ...\n",
      "    band_wavelength  (band) float32 ...\n",
      "Dimensions without coordinates: band\n",
      "Attributes:\n",
      "    long_name:      ABI band central wavelength\n",
      "    standard_name:  sensor_band_central_radiation_wavelength\n",
      "    units:          um\n"
     ]
    }
   ],
   "source": [
    "print(data.band_wavelength)"
   ]
  },
  {
   "cell_type": "markdown",
   "id": "14d86219-0a87-4549-b98a-c7d7c59a31cc",
   "metadata": {},
   "source": []
  },
  {
   "cell_type": "code",
   "execution_count": null,
   "id": "ca4dcda6-b733-4205-ac1a-d8148e1d4ab6",
   "metadata": {},
   "outputs": [],
   "source": []
  },
  {
   "cell_type": "code",
   "execution_count": null,
   "id": "23ccb116-7eb7-4ceb-93af-fa094592a30c",
   "metadata": {},
   "outputs": [],
   "source": []
  },
  {
   "cell_type": "code",
   "execution_count": null,
   "id": "a708eb12-8780-46af-a36f-5cb6dbece569",
   "metadata": {},
   "outputs": [],
   "source": []
  },
  {
   "cell_type": "code",
   "execution_count": null,
   "id": "8066ab3a-3401-429b-92da-9be4ab1a84d1",
   "metadata": {},
   "outputs": [],
   "source": []
  },
  {
   "cell_type": "code",
   "execution_count": null,
   "id": "ff3b70da-ebb5-43fd-9fbc-9ff5ed1505db",
   "metadata": {},
   "outputs": [],
   "source": []
  }
 ],
 "metadata": {
  "kernelspec": {
   "display_name": "Python 3 (ipykernel)",
   "language": "python",
   "name": "python3"
  },
  "language_info": {
   "codemirror_mode": {
    "name": "ipython",
    "version": 3
   },
   "file_extension": ".py",
   "mimetype": "text/x-python",
   "name": "python",
   "nbconvert_exporter": "python",
   "pygments_lexer": "ipython3",
   "version": "3.11.8"
  }
 },
 "nbformat": 4,
 "nbformat_minor": 5
}

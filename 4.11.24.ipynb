{
 "cells": [
  {
   "cell_type": "code",
   "execution_count": 5,
   "id": "46c93ac8-2eee-4363-8ba8-313d403ca874",
   "metadata": {},
   "outputs": [],
   "source": [
    "import pandas as pd\n",
    "import xarray as xr\n",
    "\n",
    "data = xr.open_dataset('OR_ABI-L1b-RadF-M6C01_G16_s20202570900189_e20202570909497_c20202570909552.nc')"
   ]
  },
  {
   "cell_type": "code",
   "execution_count": 2,
   "id": "bc4a3b56-51fe-41f3-a67c-1a0b4ebdc277",
   "metadata": {},
   "outputs": [
    {
     "name": "stdout",
     "output_type": "stream",
     "text": [
      "\n",
      "======================================== goes-py =========================================\n",
      " A Python package can be useful to download dataset from goes satellite on AWS  0.2.1v\n",
      "==========================================================================================\n"
     ]
    }
   ],
   "source": [
    "import goespy as gp"
   ]
  },
  {
   "cell_type": "code",
   "execution_count": 3,
   "id": "3e22a8b6-5853-4dc1-a132-eea46d62a0c1",
   "metadata": {},
   "outputs": [],
   "source": [
    "from goespy.Downloader import ABI_Downloader"
   ]
  },
  {
   "cell_type": "code",
   "execution_count": 4,
   "id": "db3991ed-092e-488d-8dd0-db7ccbe5e9a7",
   "metadata": {},
   "outputs": [],
   "source": [
    "# ABI_Downloader(destination_path, bucket,year,month,day,hour,product,channel)"
   ]
  },
  {
   "cell_type": "code",
   "execution_count": 5,
   "id": "a2eed04b-ed2b-4140-8715-9f31973c002c",
   "metadata": {},
   "outputs": [],
   "source": [
    "import os\n",
    "path = os.getcwd()\n",
    "bucket = 'noaa-goes16'\n",
    "year = '2020'\n",
    "month = '9'\n",
    "day = '13'\n",
    "hour = '9'\n",
    "product = 'ABI-L1b-RadF'\n",
    "channel = 'C01'"
   ]
  },
  {
   "cell_type": "code",
   "execution_count": 6,
   "id": "823c65c4-129b-43d9-b02e-4e71a82e7880",
   "metadata": {},
   "outputs": [
    {
     "name": "stdout",
     "output_type": "stream",
     "text": [
      "(bucket, year, month, day, hour, product, channel)\n"
     ]
    }
   ],
   "source": [
    "import inspect \n",
    "# use signature() \n",
    "print(inspect.signature(ABI_Downloader)) "
   ]
  },
  {
   "cell_type": "markdown",
   "id": "807cbabf-0f3a-4935-80db-62cd30d2982b",
   "metadata": {},
   "source": [
    "goespy does not seem to be working so well, I will try goes-2-go"
   ]
  },
  {
   "cell_type": "code",
   "execution_count": 9,
   "id": "5cf5cb0f-ff89-448d-a9ae-ae8762e84098",
   "metadata": {},
   "outputs": [],
   "source": [
    "from goes2go import GOES"
   ]
  },
  {
   "cell_type": "code",
   "execution_count": 10,
   "id": "20520290-6a35-4682-8ee7-713d73369c65",
   "metadata": {},
   "outputs": [],
   "source": [
    "G = GOES(satellite=16, product=\"ABI-L1b-Rad\", domain='F')"
   ]
  },
  {
   "cell_type": "code",
   "execution_count": null,
   "id": "6068eb1d-cbde-43aa-9543-839512bf2440",
   "metadata": {},
   "outputs": [
    {
     "name": "stdout",
     "output_type": "stream",
     "text": [
      "📦 Finished downloading [16] files to [/Users/eliasvargas/data/noaa-goes16/ABI-L1b-RadF].\n",
      " ╭─goes2go─────────────────────────────────────────────╮\n",
      " │ WARNING: Unable to create config file               │\n",
      " │    /Users/eliasvargas/.config/goes2go/config.toml    │\n",
      " │ goes2go will use standard default settings.         │\n",
      " │ Consider setting env variable GOES2GO_CONFIG_PATH.  │\n",
      " ╰─────────────────────────────────────────────────────╯\n",
      "\n",
      " ╭─goes2go─────────────────────────────────────────────╮\n",
      " │ WARNING: Unable to create config file               │\n",
      " │    /Users/eliasvargas/.config/goes2go/config.toml    │\n",
      " │ goes2go will use standard default settings.         │\n",
      " │ Consider setting env variable GOES2GO_CONFIG_PATH.  │\n",
      " ╰─────────────────────────────────────────────────────╯\n",
      "\n",
      " ╭─goes2go─────────────────────────────────────────────╮\n",
      " │ WARNING: Unable to create config file               │\n",
      " │    /Users/eliasvargas/.config/goes2go/config.toml    │\n",
      " │ goes2go will use standard default settings.         │\n",
      " │ Consider setting env variable GOES2GO_CONFIG_PATH.  │\n",
      " ╰─────────────────────────────────────────────────────╯\n",
      "\n",
      " ╭─goes2go─────────────────────────────────────────────╮\n",
      " │ WARNING: Unable to create config file               │\n",
      " │    /Users/eliasvargas/.config/goes2go/config.toml    │\n",
      " │ goes2go will use standard default settings.         │\n",
      " │ Consider setting env variable GOES2GO_CONFIG_PATH.  │\n",
      " ╰─────────────────────────────────────────────────────╯\n",
      "\n",
      " ╭─goes2go─────────────────────────────────────────────╮\n",
      " │ WARNING: Unable to create config file               │\n",
      " │    /Users/eliasvargas/.config/goes2go/config.toml    │\n",
      " │ goes2go will use standard default settings.         │\n",
      " │ Consider setting env variable GOES2GO_CONFIG_PATH.  │\n",
      " ╰─────────────────────────────────────────────────────╯\n",
      "\n",
      " ╭─goes2go─────────────────────────────────────────────╮\n",
      " │ WARNING: Unable to create config file               │\n",
      " │    /Users/eliasvargas/.config/goes2go/config.toml    │\n",
      " │ goes2go will use standard default settings.         │\n",
      " │ Consider setting env variable GOES2GO_CONFIG_PATH.  │\n",
      " ╰─────────────────────────────────────────────────────╯\n",
      "\n",
      " ╭─goes2go─────────────────────────────────────────────╮\n",
      " │ WARNING: Unable to create config file               │\n",
      " │    /Users/eliasvargas/.config/goes2go/config.toml    │\n",
      " │ goes2go will use standard default settings.         │\n",
      " │ Consider setting env variable GOES2GO_CONFIG_PATH.  │\n",
      " ╰─────────────────────────────────────────────────────╯\n",
      "\n",
      " ╭─goes2go─────────────────────────────────────────────╮\n",
      " │ WARNING: Unable to create config file               │\n",
      " │    /Users/eliasvargas/.config/goes2go/config.toml    │\n",
      " │ goes2go will use standard default settings.         │\n",
      " │ Consider setting env variable GOES2GO_CONFIG_PATH.  │\n",
      " ╰─────────────────────────────────────────────────────╯\n",
      "\n",
      "📖💽 Reading (16/16) file from LOCAL COPY [/Users/eliasvargas/data/noaa-goes16/ABI-L1b-RadF/2020/257/00/OR_ABI-L1b-RadF-M6C08_G16_s20202570000188_e20202570009496_c20202570009566.nc]. concatenate Datasets"
     ]
    }
   ],
   "source": [
    "ds = G.nearesttime('2020-09-13')"
   ]
  },
  {
   "cell_type": "markdown",
   "id": "552bdde0-e698-4653-a840-0495e51a98db",
   "metadata": {},
   "source": [
    "This one seems to crash my computer. Maybe for now I will stick with just downloading the file directly to my computer via https://noaa-goes16.s3.amazonaws.com/index.html#ABI-L1b-RadF/2020/257/09/"
   ]
  },
  {
   "cell_type": "code",
   "execution_count": 6,
   "id": "8aa3bbb3-f9f7-4706-8c92-1d00b80d4e89",
   "metadata": {},
   "outputs": [],
   "source": [
    "data = xr.open_dataset('OR_ABI-L1b-RadF-M6C01_G16_s20202570900189_e20202570909497_c20202570909552.nc')"
   ]
  },
  {
   "cell_type": "code",
   "execution_count": 7,
   "id": "51470953-ad2d-4e07-a2d3-7ca3655d26bc",
   "metadata": {},
   "outputs": [
    {
     "name": "stdout",
     "output_type": "stream",
     "text": [
      "<xarray.Dataset>\n",
      "Dimensions:                                           (y: 10848, x: 10848,\n",
      "                                                       number_of_time_bounds: 2,\n",
      "                                                       number_of_image_bounds: 2,\n",
      "                                                       band: 1,\n",
      "                                                       num_star_looks: 24)\n",
      "Coordinates:\n",
      "    t                                                 datetime64[ns] ...\n",
      "  * y                                                 (y) float64 0.1519 ... ...\n",
      "  * x                                                 (x) float64 -0.1519 ......\n",
      "    y_image                                           float32 ...\n",
      "    x_image                                           float32 ...\n",
      "    band_id                                           (band) int8 ...\n",
      "    band_wavelength                                   (band) float32 ...\n",
      "    t_star_look                                       (num_star_looks) datetime64[ns] ...\n",
      "    band_wavelength_star_look                         (num_star_looks) float32 ...\n",
      "Dimensions without coordinates: number_of_time_bounds, number_of_image_bounds,\n",
      "                                band, num_star_looks\n",
      "Data variables: (12/37)\n",
      "    Rad                                               (y, x) float32 ...\n",
      "    DQF                                               (y, x) float32 ...\n",
      "    time_bounds                                       (number_of_time_bounds) datetime64[ns] ...\n",
      "    goes_imager_projection                            int32 ...\n",
      "    y_image_bounds                                    (number_of_image_bounds) float32 ...\n",
      "    x_image_bounds                                    (number_of_image_bounds) float32 ...\n",
      "    ...                                                ...\n",
      "    algorithm_dynamic_input_data_container            int32 ...\n",
      "    processing_parm_version_container                 int32 ...\n",
      "    algorithm_product_version_container               int32 ...\n",
      "    star_id                                           (num_star_looks) float32 ...\n",
      "    channel_integration_time                          float64 ...\n",
      "    channel_gain_field                                float64 ...\n",
      "Attributes: (12/30)\n",
      "    naming_authority:          gov.nesdis.noaa\n",
      "    Conventions:               CF-1.7\n",
      "    standard_name_vocabulary:  CF Standard Name Table (v35, 20 July 2016)\n",
      "    institution:               DOC/NOAA/NESDIS > U.S. Department of Commerce,...\n",
      "    project:                   GOES\n",
      "    production_site:           RBU\n",
      "    ...                        ...\n",
      "    timeline_id:               ABI Mode 6\n",
      "    date_created:              2020-09-13T09:09:55.2Z\n",
      "    time_coverage_start:       2020-09-13T09:00:18.9Z\n",
      "    time_coverage_end:         2020-09-13T09:09:49.7Z\n",
      "    LUT_Filenames:             SpaceLookParams(FM1A_CDRL79RevP_PR_09_00_02)-6...\n",
      "    id:                        acbf3b61-8e29-4245-8586-5d7bd121ba6f\n"
     ]
    }
   ],
   "source": [
    "print(data)"
   ]
  },
  {
   "cell_type": "code",
   "execution_count": null,
   "id": "6087dbbd-46b4-4ed3-8e15-4794be36b7f9",
   "metadata": {},
   "outputs": [],
   "source": [
    "xr.plot.scatter(data, x=\"Rad\", y=\"y\")"
   ]
  },
  {
   "cell_type": "code",
   "execution_count": null,
   "id": "ec12dd05-5eab-406d-9d4e-f64bae5a7f90",
   "metadata": {},
   "outputs": [],
   "source": []
  },
  {
   "cell_type": "code",
   "execution_count": null,
   "id": "8e63b4e7-a18a-486a-a3cc-29c4f790ff87",
   "metadata": {},
   "outputs": [],
   "source": []
  }
 ],
 "metadata": {
  "kernelspec": {
   "display_name": "Python 3 (ipykernel)",
   "language": "python",
   "name": "python3"
  },
  "language_info": {
   "codemirror_mode": {
    "name": "ipython",
    "version": 3
   },
   "file_extension": ".py",
   "mimetype": "text/x-python",
   "name": "python",
   "nbconvert_exporter": "python",
   "pygments_lexer": "ipython3",
   "version": "3.11.8"
  }
 },
 "nbformat": 4,
 "nbformat_minor": 5
}

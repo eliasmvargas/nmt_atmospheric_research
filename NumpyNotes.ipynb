{
 "cells": [
  {
   "cell_type": "markdown",
   "id": "6ef10a36-eddb-4fcc-a571-1fa767795189",
   "metadata": {},
   "source": [
    "# Getting started with numpy"
   ]
  },
  {
   "cell_type": "code",
   "execution_count": 80,
   "id": "1d45705c-cd17-480b-b35e-3b7739006046",
   "metadata": {},
   "outputs": [],
   "source": [
    "import numpy as np"
   ]
  },
  {
   "cell_type": "markdown",
   "id": "b6b72c59-d662-4c40-92e9-e71174eb1e91",
   "metadata": {},
   "source": [
    "Numpy data storage and computation is much more efficient than the built in Python features. It allows faster access and computation, as well as many Q.O.L. features."
   ]
  },
  {
   "cell_type": "code",
   "execution_count": 81,
   "id": "7abc5e22-316a-4ac9-81fb-9af90047ec43",
   "metadata": {},
   "outputs": [],
   "source": [
    "data = np.array([1,2,3.5,'h',])"
   ]
  },
  {
   "cell_type": "code",
   "execution_count": 82,
   "id": "453fc760-3052-44b0-91c7-f38857ed41ee",
   "metadata": {},
   "outputs": [
    {
     "name": "stdout",
     "output_type": "stream",
     "text": [
      "['1' '2' '3.5' 'h']\n"
     ]
    }
   ],
   "source": [
    "print(data)"
   ]
  },
  {
   "cell_type": "markdown",
   "id": "f6d45cb9-e016-4cea-96ab-da9263b59a08",
   "metadata": {},
   "source": [
    "We can have different types of items in the arrays"
   ]
  },
  {
   "cell_type": "code",
   "execution_count": 83,
   "id": "a3c4f03c-74cd-47ce-aaa8-189e1f38a4b4",
   "metadata": {},
   "outputs": [
    {
     "name": "stdout",
     "output_type": "stream",
     "text": [
      "2\n"
     ]
    }
   ],
   "source": [
    "print(data[1])"
   ]
  },
  {
   "cell_type": "code",
   "execution_count": 84,
   "id": "2e9154fc-d841-4dc9-935a-f62870e25d19",
   "metadata": {},
   "outputs": [
    {
     "name": "stdout",
     "output_type": "stream",
     "text": [
      "['2' '3.5']\n"
     ]
    }
   ],
   "source": [
    "print(data[[1, 2]])"
   ]
  },
  {
   "cell_type": "code",
   "execution_count": 88,
   "id": "15bfb527-931e-44f1-937b-4ec36b69acee",
   "metadata": {},
   "outputs": [
    {
     "data": {
      "text/plain": [
       "dtype('<U32')"
      ]
     },
     "execution_count": 88,
     "metadata": {},
     "output_type": "execute_result"
    }
   ],
   "source": [
    "data.dtype"
   ]
  },
  {
   "cell_type": "markdown",
   "id": "9fb308e1-6ef9-476d-9f6f-645d0d7fcf05",
   "metadata": {},
   "source": [
    "dtype gives us the type of array we are dealing with"
   ]
  },
  {
   "cell_type": "code",
   "execution_count": 89,
   "id": "4718f935-00f4-499a-b219-7884912c31b1",
   "metadata": {},
   "outputs": [],
   "source": [
    "A = np.array([\n",
    "    # 0 1 2 3 4\n",
    "    [1,2,3,4,5],  #0\n",
    "    [5,6,7,8,5],  #1\n",
    "    [1,4,2,2,5]]) #2"
   ]
  },
  {
   "cell_type": "code",
   "execution_count": 87,
   "id": "62f7ab63-600e-413c-be51-561ff0ebcd2b",
   "metadata": {},
   "outputs": [
    {
     "data": {
      "text/plain": [
       "15"
      ]
     },
     "execution_count": 87,
     "metadata": {},
     "output_type": "execute_result"
    }
   ],
   "source": [
    "A.size"
   ]
  },
  {
   "cell_type": "markdown",
   "id": "f13bfdaf-0059-405f-81db-9fb13b5a097d",
   "metadata": {},
   "source": [
    "2D arrays are intuitive, and the .size method gives the number of items. The .shape tells us the distribution of rows and columnsW"
   ]
  },
  {
   "cell_type": "code",
   "execution_count": 90,
   "id": "47cd7b51-b8d7-4821-8082-915753efe7b1",
   "metadata": {},
   "outputs": [
    {
     "data": {
      "text/plain": [
       "(3, 5)"
      ]
     },
     "execution_count": 90,
     "metadata": {},
     "output_type": "execute_result"
    }
   ],
   "source": [
    "A.shape"
   ]
  },
  {
   "cell_type": "code",
   "execution_count": 91,
   "id": "1a11a8e7-fa34-4ad0-bc1c-c5b3a414fb85",
   "metadata": {},
   "outputs": [
    {
     "data": {
      "text/plain": [
       "5"
      ]
     },
     "execution_count": 91,
     "metadata": {},
     "output_type": "execute_result"
    }
   ],
   "source": [
    "A[1,0]"
   ]
  },
  {
   "cell_type": "markdown",
   "id": "bd8ac77a-67ca-4005-aa6a-4615786a3fd5",
   "metadata": {},
   "source": [
    "We can use coordinate notation to access specific items in 2d arrays."
   ]
  },
  {
   "cell_type": "markdown",
   "id": "9b54f49f-ac6c-4a30-960b-8d325f170a40",
   "metadata": {},
   "source": [
    "## Summary statistics"
   ]
  },
  {
   "cell_type": "code",
   "execution_count": 92,
   "id": "f8e08ea5-2696-44aa-8e17-dd21dd44405c",
   "metadata": {},
   "outputs": [
    {
     "data": {
      "text/plain": [
       "60"
      ]
     },
     "execution_count": 92,
     "metadata": {},
     "output_type": "execute_result"
    }
   ],
   "source": [
    "A.sum()"
   ]
  },
  {
   "cell_type": "code",
   "execution_count": 93,
   "id": "0b935901-7318-4600-b8ce-fbc938b21163",
   "metadata": {},
   "outputs": [
    {
     "data": {
      "text/plain": [
       "4.0"
      ]
     },
     "execution_count": 93,
     "metadata": {},
     "output_type": "execute_result"
    }
   ],
   "source": [
    "A.mean()"
   ]
  },
  {
   "cell_type": "code",
   "execution_count": 94,
   "id": "e402b171-fa5f-42b9-93e8-c153c5f11fb1",
   "metadata": {},
   "outputs": [
    {
     "data": {
      "text/plain": [
       "2.065591117977289"
      ]
     },
     "execution_count": 94,
     "metadata": {},
     "output_type": "execute_result"
    }
   ],
   "source": [
    "A.std()"
   ]
  },
  {
   "cell_type": "markdown",
   "id": "1368834a-b8fa-415c-983b-ec9a80d98c7a",
   "metadata": {},
   "source": [
    "Standard and self explanatory operations for datasets"
   ]
  },
  {
   "cell_type": "code",
   "execution_count": 95,
   "id": "e19ddfd3-812f-4414-9413-37d752b41660",
   "metadata": {},
   "outputs": [
    {
     "data": {
      "text/plain": [
       "array([ 7, 12, 12, 14, 15])"
      ]
     },
     "execution_count": 95,
     "metadata": {},
     "output_type": "execute_result"
    }
   ],
   "source": [
    "A.sum(axis=0)"
   ]
  },
  {
   "cell_type": "code",
   "execution_count": 96,
   "id": "7c298400-cc65-4be1-b0ae-2b2611569b01",
   "metadata": {},
   "outputs": [
    {
     "data": {
      "text/plain": [
       "array([15, 31, 14])"
      ]
     },
     "execution_count": 96,
     "metadata": {},
     "output_type": "execute_result"
    }
   ],
   "source": [
    "A.sum(axis=1)"
   ]
  },
  {
   "cell_type": "markdown",
   "id": "913e2043-4033-4f4c-a9dc-1e2fdbe78b42",
   "metadata": {},
   "source": [
    "This here gives us a sum either from row to row or column to column."
   ]
  },
  {
   "cell_type": "markdown",
   "id": "d9f9b6ab-982a-448e-aadd-74a5e099f9a2",
   "metadata": {},
   "source": [
    "# Vectorized operations"
   ]
  },
  {
   "cell_type": "code",
   "execution_count": 98,
   "id": "96e6640b-2ed7-4d11-8df7-1062f5c2f419",
   "metadata": {},
   "outputs": [],
   "source": [
    "s = np.arange(4)"
   ]
  },
  {
   "cell_type": "code",
   "execution_count": 99,
   "id": "5d5161a5-cf5c-4695-bf56-2aec45e4de59",
   "metadata": {},
   "outputs": [
    {
     "data": {
      "text/plain": [
       "array([0, 1, 2, 3])"
      ]
     },
     "execution_count": 99,
     "metadata": {},
     "output_type": "execute_result"
    }
   ],
   "source": [
    "s"
   ]
  },
  {
   "cell_type": "code",
   "execution_count": 100,
   "id": "ccedfa54-dff1-41fe-ba8d-4e43bcffe156",
   "metadata": {},
   "outputs": [
    {
     "data": {
      "text/plain": [
       "array([10, 11, 12, 13])"
      ]
     },
     "execution_count": 100,
     "metadata": {},
     "output_type": "execute_result"
    }
   ],
   "source": [
    "s + 10"
   ]
  },
  {
   "cell_type": "markdown",
   "id": "82905a6d-3058-4e65-a477-c7a298ecfd9d",
   "metadata": {},
   "source": [
    "Adds 10 to each item"
   ]
  },
  {
   "cell_type": "code",
   "execution_count": 101,
   "id": "0dc5c625-7768-4e01-9f59-ab12cef16deb",
   "metadata": {},
   "outputs": [
    {
     "data": {
      "text/plain": [
       "array([ 0, 10, 20, 30])"
      ]
     },
     "execution_count": 101,
     "metadata": {},
     "output_type": "execute_result"
    }
   ],
   "source": [
    "s * 10"
   ]
  },
  {
   "cell_type": "markdown",
   "id": "8004bd67-13ea-429a-84c4-d9d57bc98fd6",
   "metadata": {},
   "source": [
    "Multiplies each item by 10"
   ]
  },
  {
   "cell_type": "markdown",
   "id": "14180b41-3afe-49f4-8f2b-c5f892cdc886",
   "metadata": {},
   "source": [
    "These operations create a new array with the modifications, they do not modify the original array- See below"
   ]
  },
  {
   "cell_type": "code",
   "execution_count": 103,
   "id": "3b723c29-4a0d-4fa5-ab98-38549537d891",
   "metadata": {},
   "outputs": [
    {
     "data": {
      "text/plain": [
       "array([0, 1, 2, 3])"
      ]
     },
     "execution_count": 103,
     "metadata": {},
     "output_type": "execute_result"
    }
   ],
   "source": [
    "s"
   ]
  },
  {
   "cell_type": "code",
   "execution_count": 107,
   "id": "fb1d291c-b527-4f93-8a0b-d14566b1bb7f",
   "metadata": {},
   "outputs": [],
   "source": [
    "s += 10"
   ]
  },
  {
   "cell_type": "code",
   "execution_count": 108,
   "id": "a1f4e8c2-1c9a-48f9-b403-7ce52a2cd4fe",
   "metadata": {},
   "outputs": [
    {
     "data": {
      "text/plain": [
       "array([30, 31, 32, 33])"
      ]
     },
     "execution_count": 108,
     "metadata": {},
     "output_type": "execute_result"
    }
   ],
   "source": [
    "s"
   ]
  },
  {
   "cell_type": "markdown",
   "id": "ce8b1b5d-43fb-4498-ac82-344d633ff792",
   "metadata": {},
   "source": [
    "+= operator changes the original array"
   ]
  },
  {
   "cell_type": "code",
   "execution_count": 109,
   "id": "79a1d8e4-2e20-4061-8001-107d37b143bf",
   "metadata": {},
   "outputs": [],
   "source": [
    "t = np.arange(4)"
   ]
  },
  {
   "cell_type": "code",
   "execution_count": 110,
   "id": "84c9aa91-e395-4dbd-be0f-cb2ecef244b2",
   "metadata": {},
   "outputs": [],
   "source": [
    "t += 50"
   ]
  },
  {
   "cell_type": "code",
   "execution_count": 111,
   "id": "a1fc555e-d68c-4aa7-ace6-44e7e429b83e",
   "metadata": {},
   "outputs": [
    {
     "data": {
      "text/plain": [
       "array([50, 51, 52, 53])"
      ]
     },
     "execution_count": 111,
     "metadata": {},
     "output_type": "execute_result"
    }
   ],
   "source": [
    "t"
   ]
  },
  {
   "cell_type": "code",
   "execution_count": 112,
   "id": "442131a2-17ad-4659-bf6e-0b41653aa692",
   "metadata": {},
   "outputs": [
    {
     "data": {
      "text/plain": [
       "array([80, 82, 84, 86])"
      ]
     },
     "execution_count": 112,
     "metadata": {},
     "output_type": "execute_result"
    }
   ],
   "source": [
    "s + t"
   ]
  },
  {
   "cell_type": "code",
   "execution_count": 113,
   "id": "69d23c6e-77f3-4da5-9368-8c6460d9ebe1",
   "metadata": {},
   "outputs": [
    {
     "data": {
      "text/plain": [
       "array([1500, 1581, 1664, 1749])"
      ]
     },
     "execution_count": 113,
     "metadata": {},
     "output_type": "execute_result"
    }
   ],
   "source": [
    "s * t"
   ]
  },
  {
   "cell_type": "markdown",
   "id": "c24b7fd1-bf9b-41b8-865d-12dadd9dd9aa",
   "metadata": {},
   "source": [
    "Multiplying and adding arrays works too"
   ]
  },
  {
   "cell_type": "code",
   "execution_count": 114,
   "id": "9c9fb50e-d8ed-4c07-abb4-120503b15e34",
   "metadata": {},
   "outputs": [
    {
     "data": {
      "text/plain": [
       "array([50, 51, 52, 53])"
      ]
     },
     "execution_count": 114,
     "metadata": {},
     "output_type": "execute_result"
    }
   ],
   "source": [
    "t"
   ]
  },
  {
   "cell_type": "code",
   "execution_count": 115,
   "id": "a2884756-1ce4-4adf-8822-7595a2041700",
   "metadata": {},
   "outputs": [
    {
     "data": {
      "text/plain": [
       "array([30, 31, 32, 33])"
      ]
     },
     "execution_count": 115,
     "metadata": {},
     "output_type": "execute_result"
    }
   ],
   "source": [
    "s"
   ]
  },
  {
   "cell_type": "markdown",
   "id": "25b87baa-9990-4031-9656-cbab2f850134",
   "metadata": {},
   "source": [
    "# Boolean arrays"
   ]
  },
  {
   "cell_type": "code",
   "execution_count": 118,
   "id": "54b572e7-057b-499a-8fd4-724603504587",
   "metadata": {},
   "outputs": [],
   "source": [
    "a = np.arange(5)"
   ]
  },
  {
   "cell_type": "code",
   "execution_count": 119,
   "id": "8f6ec77e-1e1e-4b4a-a319-5d05ac9db8cc",
   "metadata": {},
   "outputs": [
    {
     "data": {
      "text/plain": [
       "array([0, 1, 2, 3, 4])"
      ]
     },
     "execution_count": 119,
     "metadata": {},
     "output_type": "execute_result"
    }
   ],
   "source": [
    "a"
   ]
  },
  {
   "cell_type": "code",
   "execution_count": 121,
   "id": "05d628c8-b784-447e-a8c4-ed33c98548d7",
   "metadata": {},
   "outputs": [
    {
     "data": {
      "text/plain": [
       "array([0, 2, 4])"
      ]
     },
     "execution_count": 121,
     "metadata": {},
     "output_type": "execute_result"
    }
   ],
   "source": [
    "a[[True, False, True, False, True]]"
   ]
  },
  {
   "cell_type": "code",
   "execution_count": 122,
   "id": "f12686f3-5064-4963-9b35-441e0e997249",
   "metadata": {},
   "outputs": [
    {
     "data": {
      "text/plain": [
       "array([False, False, False, False, False])"
      ]
     },
     "execution_count": 122,
     "metadata": {},
     "output_type": "execute_result"
    }
   ],
   "source": [
    "a >= 5"
   ]
  },
  {
   "cell_type": "code",
   "execution_count": 123,
   "id": "4b0e66c8-ab54-4660-addf-5fa2b432b73c",
   "metadata": {},
   "outputs": [
    {
     "data": {
      "text/plain": [
       "array([False,  True,  True,  True,  True])"
      ]
     },
     "execution_count": 123,
     "metadata": {},
     "output_type": "execute_result"
    }
   ],
   "source": [
    "a >= 1"
   ]
  },
  {
   "cell_type": "markdown",
   "id": "e199ab4f-a2b6-47b6-88b4-a0b3bd101f44",
   "metadata": {},
   "source": [
    "Boolean operators return arrays of true/false values!! "
   ]
  },
  {
   "cell_type": "code",
   "execution_count": 124,
   "id": "fcc23823-1cb4-4347-be69-0daa978f60af",
   "metadata": {},
   "outputs": [
    {
     "data": {
      "text/plain": [
       "array([1, 2, 3, 4])"
      ]
     },
     "execution_count": 124,
     "metadata": {},
     "output_type": "execute_result"
    }
   ],
   "source": [
    "a[a>=1]"
   ]
  },
  {
   "cell_type": "markdown",
   "id": "968f4919-5ff7-4c25-a609-553fbe117418",
   "metadata": {},
   "source": [
    "Many filtering opportunities"
   ]
  },
  {
   "cell_type": "code",
   "execution_count": 130,
   "id": "936a5a6a-ade2-47cf-9c7e-05044a1ad568",
   "metadata": {},
   "outputs": [
    {
     "data": {
      "text/plain": [
       "array([3, 4])"
      ]
     },
     "execution_count": 130,
     "metadata": {},
     "output_type": "execute_result"
    }
   ],
   "source": [
    "a[a>a.mean()]"
   ]
  },
  {
   "cell_type": "code",
   "execution_count": 131,
   "id": "18db0430-ded5-4454-a75f-ae0d13f9bcd9",
   "metadata": {},
   "outputs": [
    {
     "data": {
      "text/plain": [
       "array([0, 1, 2])"
      ]
     },
     "execution_count": 131,
     "metadata": {},
     "output_type": "execute_result"
    }
   ],
   "source": [
    "a[~(a>a.mean())]"
   ]
  },
  {
   "cell_type": "markdown",
   "id": "feb7db16-793a-446a-b912-65ee1c2a1e07",
   "metadata": {},
   "source": [
    "~ Tilde is the NOT operator"
   ]
  },
  {
   "cell_type": "code",
   "execution_count": 132,
   "id": "2406a20b-8d72-4ff4-bd1b-8752d1d97d33",
   "metadata": {},
   "outputs": [
    {
     "data": {
      "text/plain": [
       "array([2])"
      ]
     },
     "execution_count": 132,
     "metadata": {},
     "output_type": "execute_result"
    }
   ],
   "source": [
    "a[(a == 5) | (a == 2)]"
   ]
  },
  {
   "cell_type": "code",
   "execution_count": 137,
   "id": "97c22798-f346-4b6a-aa5f-4f786fd7fe5f",
   "metadata": {},
   "outputs": [
    {
     "data": {
      "text/plain": [
       "array([0, 2])"
      ]
     },
     "execution_count": 137,
     "metadata": {},
     "output_type": "execute_result"
    }
   ],
   "source": [
    "a[(a <= 2) & (a % 2 == 0)]"
   ]
  },
  {
   "cell_type": "code",
   "execution_count": 138,
   "id": "656da2aa-d0ce-47b1-982e-d81933838ff4",
   "metadata": {},
   "outputs": [],
   "source": [
    "A = np.random.randint(100, size=(3,3))"
   ]
  },
  {
   "cell_type": "code",
   "execution_count": 139,
   "id": "731a9b84-a61c-4604-8742-258b760be378",
   "metadata": {},
   "outputs": [
    {
     "data": {
      "text/plain": [
       "array([[60, 19, 26],\n",
       "       [13, 11, 35],\n",
       "       [65, 75, 44]])"
      ]
     },
     "execution_count": 139,
     "metadata": {},
     "output_type": "execute_result"
    }
   ],
   "source": [
    "A"
   ]
  },
  {
   "cell_type": "code",
   "execution_count": 140,
   "id": "dcffa69e-daca-4d4f-aeaa-ca2ff904704c",
   "metadata": {},
   "outputs": [
    {
     "data": {
      "text/plain": [
       "array([[ True, False, False],\n",
       "       [False, False,  True],\n",
       "       [ True,  True,  True]])"
      ]
     },
     "execution_count": 140,
     "metadata": {},
     "output_type": "execute_result"
    }
   ],
   "source": [
    "A > 30"
   ]
  },
  {
   "cell_type": "code",
   "execution_count": 141,
   "id": "cb2bd8e1-d581-4810-8e59-04770779d70d",
   "metadata": {},
   "outputs": [
    {
     "data": {
      "text/plain": [
       "array([60, 35, 65, 75, 44])"
      ]
     },
     "execution_count": 141,
     "metadata": {},
     "output_type": "execute_result"
    }
   ],
   "source": [
    "A[A>30]"
   ]
  },
  {
   "cell_type": "markdown",
   "id": "73a2ef56-7845-4817-9046-d6405b52416f",
   "metadata": {},
   "source": [
    "# Linear Algebra stuff"
   ]
  },
  {
   "cell_type": "code",
   "execution_count": 142,
   "id": "2fee236f-ab49-47cf-bec8-43b8bf5621d7",
   "metadata": {},
   "outputs": [],
   "source": [
    "A = np.random.randint(100, size=(3,3))"
   ]
  },
  {
   "cell_type": "code",
   "execution_count": 143,
   "id": "040e6a0d-35cd-4ad5-a92d-1a893db1a7ed",
   "metadata": {},
   "outputs": [],
   "source": [
    "B = np.random.randint(100, size=(3,3))"
   ]
  },
  {
   "cell_type": "code",
   "execution_count": 144,
   "id": "6b9e9b73-74a0-4c33-a517-edbdbeed11df",
   "metadata": {},
   "outputs": [
    {
     "data": {
      "text/plain": [
       "array([[ 2974,  4465,  6106],\n",
       "       [10697, 15373, 20004],\n",
       "       [ 5900,  8428, 10836]])"
      ]
     },
     "execution_count": 144,
     "metadata": {},
     "output_type": "execute_result"
    }
   ],
   "source": [
    "A.dot(B)"
   ]
  },
  {
   "cell_type": "code",
   "execution_count": 145,
   "id": "647ea127-5353-4d5f-8178-a7ba053203be",
   "metadata": {},
   "outputs": [
    {
     "data": {
      "text/plain": [
       "array([[ 2974,  4465,  6106],\n",
       "       [10697, 15373, 20004],\n",
       "       [ 5900,  8428, 10836]])"
      ]
     },
     "execution_count": 145,
     "metadata": {},
     "output_type": "execute_result"
    }
   ],
   "source": [
    "A @ B"
   ]
  },
  {
   "cell_type": "code",
   "execution_count": 146,
   "id": "18962fd5-abaa-4146-a95d-e2fa4f297464",
   "metadata": {},
   "outputs": [
    {
     "data": {
      "text/plain": [
       "array([[17, 73, 29],\n",
       "       [47, 84, 40],\n",
       "       [77, 86, 63]])"
      ]
     },
     "execution_count": 146,
     "metadata": {},
     "output_type": "execute_result"
    }
   ],
   "source": [
    "B.T"
   ]
  },
  {
   "cell_type": "code",
   "execution_count": 147,
   "id": "199ff7af-301c-4140-aeef-bb92aa7ae8de",
   "metadata": {},
   "outputs": [
    {
     "data": {
      "text/plain": [
       "array([[31, 22, 29],\n",
       "       [95, 97, 69],\n",
       "       [52, 56, 32]])"
      ]
     },
     "execution_count": 147,
     "metadata": {},
     "output_type": "execute_result"
    }
   ],
   "source": [
    "A"
   ]
  },
  {
   "cell_type": "code",
   "execution_count": 148,
   "id": "c1c16875-cd96-4e71-9c21-09c9d5493c60",
   "metadata": {},
   "outputs": [
    {
     "data": {
      "text/plain": [
       "array([[ 8970,  9079,  6458],\n",
       "       [11517, 11422,  8439],\n",
       "       [13833, 13564, 10183]])"
      ]
     },
     "execution_count": 148,
     "metadata": {},
     "output_type": "execute_result"
    }
   ],
   "source": [
    "B.T @ A"
   ]
  },
  {
   "cell_type": "markdown",
   "id": "47c5c938-4b8d-4cfc-b699-81fe059fb437",
   "metadata": {},
   "source": [
    "## Note : Python uses WAY more data to store simple numbers. Numpy is much more memory efficient."
   ]
  }
 ],
 "metadata": {
  "kernelspec": {
   "display_name": "Python 3 (ipykernel)",
   "language": "python",
   "name": "python3"
  },
  "language_info": {
   "codemirror_mode": {
    "name": "ipython",
    "version": 3
   },
   "file_extension": ".py",
   "mimetype": "text/x-python",
   "name": "python",
   "nbconvert_exporter": "python",
   "pygments_lexer": "ipython3",
   "version": "3.11.8"
  }
 },
 "nbformat": 4,
 "nbformat_minor": 5
}

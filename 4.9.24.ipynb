{
 "cells": [
  {
   "cell_type": "markdown",
   "id": "8a4690b1-8fb0-45e3-8174-bf4120d6d0d6",
   "metadata": {},
   "source": [
    "## What is NetCDF?\n",
    "\n",
    "**Acronym:** Network Common Data Form\n",
    "**Background:** NetCDF was developed for the atmospheric and weather research community, but is useful for any scientific data that involves physical parameters being stored in a grid. \n",
    "**Self describing:** Includes all metadata needed to understand the data\n",
    "Machine-independent file format \n",
    "\n",
    "### Comprised of three components:\n",
    "- #### Dimensions\n",
    "\t\tDefines the shape of the data:\n",
    "\t\tTime series, depth profile, or multidimensional; Eg.: Latitude, longitude, and time intervals\n",
    "- #### Variables\n",
    "\t- Arrays of values, can be multidimensional. \n",
    "\t- Can be different types, int, float, str.\n",
    "\t- Fill values: Unrealistic number for places where no data is collected. Lets user know to they have no data for that particular spot.\n",
    "- **Attributes**\n",
    "\t- Variable attributes\n",
    "\t\t- Describes the variable(s): Name, units, description, etc.\n",
    "\t- Global attributes\n",
    "\t\t- Describes the data as a whole. Title, summary, max-mins, keywords, etc.\n",
    "\n",
    "\n",
    "**Standards can be found with CF and ACDD conventions**\n",
    "- CF - Climate and forecast *\n",
    "- ACDD - Attribute Convention for Data Discovery"
   ]
  },
  {
   "cell_type": "markdown",
   "id": "6d25aa5c-df26-46f2-8bdf-1bae2bc924a6",
   "metadata": {},
   "source": [
    "## Notes about satellites\n",
    "\n",
    "### Why are different types necessary ? \n",
    "Each satellite varies by purpose, which necessarily changes its implementation; distance, size, etc.\n",
    "\n",
    "### Types by orbit distance\n",
    "##### Low Earth Orbit (LEO)\n",
    "- Altitude: 160 - 1500 km\n",
    "- 90 - 120 minute orbital period\n",
    "- Good for: Remote sensing, high resolution earth observation, scientific research of varying types\n",
    "- Their scope is limited due to the field of view\n",
    "- Best when combined in \"nets\", called satellite constellations. Several satellites working in parallel\n",
    "##### Medium Earth Orbit (MEO)\n",
    "- Altitude: 5000 - 20,000 km\n",
    "- Used especially in the field of navigation and GPS services.\n",
    "- Low latency data transfer to earth\n",
    "- 2 - 12 hour orbital period\n",
    "\n",
    "##### Geostationary Orbit (GEO)\n",
    "- Altitude: 35,786 km\n",
    "- Directly above the equator\n",
    "- Just about three GEO satellites are enough cover all of earth\n",
    "- Orbital period equal to Earth's\n",
    "- Best for always-on communications (TV, phones, etc)\n",
    "- **Useful for weather and meteorology**\n",
    "- Longer signal delay\n",
    "- Used to monitor cloud-cover\n",
    "##### Sun-Synchronous Orbit (SSO);\n",
    "- Altitude: 600 - 800 km\n",
    "- Orbital speed calibrated to image locations at the exact same local solar time\n",
    "- Identical light conditions\n",
    "- Useful for earth observation and environmental monitoring\n",
    "##### Geostationary Transfer Orbit (GTO)\n",
    "*to be picked up at another time*"
   ]
  },
  {
   "cell_type": "markdown",
   "id": "dda7ba5e-0d02-45a5-b8ae-1718bdf0f6ef",
   "metadata": {},
   "source": [
    "## GOES Satellites\n",
    "\n",
    "Geostationary Operational Environmental Satellites (GOES)\n",
    "\n",
    "Resource link: \n",
    "https://registry.opendata.aws/noaa-goes/\n"
   ]
  },
  {
   "cell_type": "code",
   "execution_count": 2,
   "id": "9fe78d3c-cb61-43e2-b0b5-c351e1e00afe",
   "metadata": {},
   "outputs": [
    {
     "name": "stdout",
     "output_type": "stream",
     "text": [
      "<xarray.Dataset> Size: 120MB\n",
      "Dimensions:                                           (y: 3000, x: 5000,\n",
      "                                                       number_of_time_bounds: 2,\n",
      "                                                       number_of_image_bounds: 2,\n",
      "                                                       band: 1,\n",
      "                                                       number_of_harmonization_coefficients: 3,\n",
      "                                                       num_star_looks: 24)\n",
      "Coordinates:\n",
      "    t                                                 datetime64[ns] 8B ...\n",
      "  * y                                                 (y) float32 12kB 0.1282...\n",
      "  * x                                                 (x) float32 20kB -0.101...\n",
      "    y_image                                           float32 4B ...\n",
      "    x_image                                           float32 4B ...\n",
      "    band_id                                           (band) int8 1B ...\n",
      "    band_wavelength                                   (band) float32 4B ...\n",
      "    t_star_look                                       (num_star_looks) datetime64[ns] 192B ...\n",
      "    band_wavelength_star_look                         (num_star_looks) float32 96B ...\n",
      "Dimensions without coordinates: number_of_time_bounds, number_of_image_bounds,\n",
      "                                band, number_of_harmonization_coefficients,\n",
      "                                num_star_looks\n",
      "Data variables: (12/39)\n",
      "    Rad                                               (y, x) float32 60MB ...\n",
      "    DQF                                               (y, x) float32 60MB ...\n",
      "    time_bounds                                       (number_of_time_bounds) datetime64[ns] 16B ...\n",
      "    goes_imager_projection                            int32 4B ...\n",
      "    y_image_bounds                                    (number_of_image_bounds) float32 8B ...\n",
      "    x_image_bounds                                    (number_of_image_bounds) float32 8B ...\n",
      "    ...                                                ...\n",
      "    algorithm_dynamic_input_data_container            int32 4B ...\n",
      "    processing_parm_version_container                 int32 4B ...\n",
      "    algorithm_product_version_container               int32 4B ...\n",
      "    star_id                                           (num_star_looks) float32 96B ...\n",
      "    channel_integration_time                          float64 8B ...\n",
      "    channel_gain_field                                float64 8B ...\n",
      "Attributes: (12/30)\n",
      "    naming_authority:          gov.nesdis.noaa\n",
      "    Conventions:               CF-1.7\n",
      "    standard_name_vocabulary:  CF Standard Name Table (v35, 20 July 2016)\n",
      "    institution:               DOC/NOAA/NESDIS > U.S. Department of Commerce,...\n",
      "    project:                   GOES\n",
      "    production_site:           WCDAS\n",
      "    ...                        ...\n",
      "    timeline_id:               ABI Mode 6\n",
      "    date_created:              2024-01-01T00:04:00.5Z\n",
      "    time_coverage_start:       2024-01-01T00:01:17.3Z\n",
      "    time_coverage_end:         2024-01-01T00:03:54.6Z\n",
      "    LUT_Filenames:             SpaceLookParams(FM1A_CDRL79RevH_DO_13_00_00)-7...\n",
      "    id:                        3b38b2ef-65b1-4daf-b762-0498a8819952\n"
     ]
    }
   ],
   "source": [
    "import xarray as xr\n",
    "import pandas as pd\n",
    "import numpy as np\n",
    "\n",
    "data = xr.open_dataset('OR_ABI-L1b-RadC-M6C01_G16_s20240010001173_e20240010003546_c20240010004005.nc')\n",
    "print(data)"
   ]
  },
  {
   "cell_type": "code",
   "execution_count": 3,
   "id": "aaae48b9-fe48-43b6-998e-6db8a62dc2b5",
   "metadata": {},
   "outputs": [
    {
     "name": "stdout",
     "output_type": "stream",
     "text": [
      "{'naming_authority': 'gov.nesdis.noaa', 'Conventions': 'CF-1.7', 'standard_name_vocabulary': 'CF Standard Name Table (v35, 20 July 2016)', 'institution': 'DOC/NOAA/NESDIS > U.S. Department of Commerce, National Oceanic and Atmospheric Administration, National Environmental Satellite, Data, and Information Services', 'project': 'GOES', 'production_site': 'WCDAS', 'production_environment': 'OE', 'spatial_resolution': '1km at nadir', 'Metadata_Conventions': 'Unidata Dataset Discovery v1.0', 'orbital_slot': 'GOES-East', 'platform_ID': 'G16', 'instrument_type': 'GOES-R Series Advanced Baseline Imager (ABI)', 'scene_id': 'CONUS', 'instrument_ID': 'FM1', 'title': 'ABI L1b Radiances', 'summary': 'Single reflective band ABI L1b Radiance Products are digital maps of outgoing radiance values at the top of the atmosphere for visible and near-IR bands.', 'keywords': 'SPECTRAL/ENGINEERING > VISIBLE WAVELENGTHS > VISIBLE RADIANCE', 'keywords_vocabulary': 'NASA Global Change Master Directory (GCMD) Earth Science Keywords, Version 7.0.0.0.0', 'iso_series_metadata_id': 'a70be540-c38b-11e0-962b-0800200c9a66', 'license': 'Unclassified data.  Access is restricted to approved users only.', 'processing_level': 'National Aeronautics and Space Administration (NASA) L1b', 'cdm_data_type': 'Image', 'dataset_name': 'OR_ABI-L1b-RadC-M6C01_G16_s20240010001173_e20240010003546_c20240010004005.nc', 'production_data_source': 'Realtime', 'timeline_id': 'ABI Mode 6', 'date_created': '2024-01-01T00:04:00.5Z', 'time_coverage_start': '2024-01-01T00:01:17.3Z', 'time_coverage_end': '2024-01-01T00:03:54.6Z', 'LUT_Filenames': 'SpaceLookParams(FM1A_CDRL79RevH_DO_13_00_00)-739861842.0.h5 QTableBand01(FM1A_CDRL79RevH_DO_07_00_00)-582860861.0.h5 CalTargetTimeIntervals(FM1A_CDRL79RevP_DO_08_00_01)-611906620.0.h5 BandSaturationLimits(FM1A_CDRL79RevH_DO_08_00_00)-600000000.0.h5 SolarSpaceLookParams(FM1A_ADR1233_DO_13_00_00)-739861842.0.h5 DeadRowListParams(FM1A_CDRL79RevH_DO_08_00_00)-600000000.0.h5 Mirror_Record(FM1A_CDRL79RevG_DO_07_00_00)-582860861.0.h5 KalmanAstroConsts(FM1A_CDRL79RevH_DO_08_00_00)-600000000.0.xml KalmanFilterControls(FM1A_CDRL79RevJ_DO_13_00_00_NOMINAL)-739861842.0.xml KalmanMeasMaxSensibles(FMAA_INT_ONLY_DO_09_01_00)-631775400.0.xml KalmanPreprocessorControls(FM1A_CDRL79RevJ_DO_13_00_00)-739861842.0.xml KalmanReferenceData(FM1A_CDRL79RevH_DO_08_00_00)-888.0.xml KalmanStarCatalogs(FM1A_CDRL79RevH_DO_08_00_00)-600000000.0.xml ABI_NavigationRDP_Band01(FM1A_CDRL79RevJ_DO_07_00_00)-582860861.0.xml ABI_NavigationParameters_Band01(FM1A_CDRL79RevH_DO_07_00_00)-582860861.0.xml ABI_ResamplingImplementation_Band01(FM1A_CDRL79RevH_DO_07_02_00)-602129336.0.xml ABI_ResamplingParameters_Band01(FM1A_CDRL79RevJ_DO_11_00_00)-660662768.0.xml StarLookParams(FM1A_CDRL79RevH_DO_08_00_00)-600000000.0.h5 StarDetectionParams(FM1A_CDRL79RevJ_DO_07_00_00)-582860861.0.xml ResamplingScaledConversion(FMAA_INT_ONLY_DO_08_00_00)-1111.0.xml BlockReleaseRegions(FMAA_INT_ONLY_DO_08_00_00)-2222.0.csv VNIR_RetrievalParameters(FM1A_CDRL79RevH_DO_08_00_00)-600000000.0.h5 SCT_Record(FM1A_CDRL79RevM_DO_09_00_00)-600765435.0.h5 ICM_ConversionConsts(FM1A_CDRL43-18_DO_09_01_00)-600765500.0.h5 ICM_SensorCoefficients(FM1A_TMABI_18_159_TMABI_18_533_DO_09_05_00)-665800000.0.h5 ABI_HarmonizationCoefficients(FM1A_CDRL79RevL_DO_12_00_00)-721111111.0.xml', 'id': '3b38b2ef-65b1-4daf-b762-0498a8819952'}\n"
     ]
    }
   ],
   "source": [
    "print(data.attrs)"
   ]
  },
  {
   "cell_type": "code",
   "execution_count": 4,
   "id": "748b8885-f178-4514-8901-56621b2051a4",
   "metadata": {},
   "outputs": [
    {
     "name": "stdout",
     "output_type": "stream",
     "text": [
      "Data variables:\n",
      "    Rad                                               (y, x) float32 60MB ...\n",
      "    DQF                                               (y, x) float32 60MB ...\n",
      "    time_bounds                                       (number_of_time_bounds) datetime64[ns] 16B ...\n",
      "    goes_imager_projection                            int32 4B ...\n",
      "    y_image_bounds                                    (number_of_image_bounds) float32 8B ...\n",
      "    x_image_bounds                                    (number_of_image_bounds) float32 8B ...\n",
      "    nominal_satellite_subpoint_lat                    float32 4B ...\n",
      "    nominal_satellite_subpoint_lon                    float32 4B ...\n",
      "    nominal_satellite_height                          float32 4B ...\n",
      "    geospatial_lat_lon_extent                         float32 4B ...\n",
      "    yaw_flip_flag                                     float32 4B ...\n",
      "    esun                                              float32 4B ...\n",
      "    kappa0                                            float32 4B ...\n",
      "    planck_fk1                                        float32 4B ...\n",
      "    planck_fk2                                        float32 4B ...\n",
      "    planck_bc1                                        float32 4B ...\n",
      "    planck_bc2                                        float32 4B ...\n",
      "    a_h_NRTH                                          (number_of_harmonization_coefficients) float32 12B ...\n",
      "    b_h_NRTH                                          (number_of_harmonization_coefficients) float32 12B ...\n",
      "    valid_pixel_count                                 float64 8B ...\n",
      "    missing_pixel_count                               float64 8B ...\n",
      "    saturated_pixel_count                             float64 8B ...\n",
      "    undersaturated_pixel_count                        float64 8B ...\n",
      "    focal_plane_temperature_threshold_exceeded_count  float64 8B ...\n",
      "    min_radiance_value_of_valid_pixels                float32 4B ...\n",
      "    max_radiance_value_of_valid_pixels                float32 4B ...\n",
      "    mean_radiance_value_of_valid_pixels               float32 4B ...\n",
      "    std_dev_radiance_value_of_valid_pixels            float32 4B ...\n",
      "    maximum_focal_plane_temperature                   float32 4B ...\n",
      "    focal_plane_temperature_threshold_increasing      float32 4B ...\n",
      "    focal_plane_temperature_threshold_decreasing      float32 4B ...\n",
      "    percent_uncorrectable_L0_errors                   float32 4B ...\n",
      "    earth_sun_distance_anomaly_in_AU                  float32 4B ...\n",
      "    algorithm_dynamic_input_data_container            int32 4B ...\n",
      "    processing_parm_version_container                 int32 4B ...\n",
      "    algorithm_product_version_container               int32 4B ...\n",
      "    star_id                                           (num_star_looks) float32 96B ...\n",
      "    channel_integration_time                          float64 8B ...\n",
      "    channel_gain_field                                float64 8B ...\n"
     ]
    }
   ],
   "source": [
    "print(data.data_vars)"
   ]
  },
  {
   "cell_type": "markdown",
   "id": "3dc59477-eb92-450e-8f06-6eb13d8b11c3",
   "metadata": {},
   "source": [
    "\n",
    "### Rad\n",
    "TOA Outgoing radiance per unit wavelength\n",
    "TOA stands for top of atmosphere\n",
    "\n",
    "\"Top-Of-Atmosphere Reflectance (TOA): Reflectance is a number between 0 and 1 that represents how much energy within the spectral band, is reflected from it. Like apparent radiance, this is a measure of a pixel’s reflectance as observed, without correction for the atmosphere. TOA reflectance is often used for analysis as it tends to be ‘good-enough’ for many applications.\"\n",
    "\n",
    "This is for top of atmosphere reflectance, not radiance. \n",
    "#### Question1: Is there a difference between TOA Reflectance and TOA Radiance? Does this snippit apply?\n",
    "\n",
    "Information from: \n",
    "https://landscape.satsummit.io/distribution/key-concepts.html#:~:text=Top%2DOf%2DAtmosphere%20Reflectance%20(,without%20correction%20for%20the%20atmosphere.\n",
    "\n",
    "\n",
    "5 Coordinates? \n",
    "\n",
    "X,Y,T \n",
    "\n",
    "#### Question2: What is y_image and x_image?\n"
   ]
  },
  {
   "cell_type": "code",
   "execution_count": 5,
   "id": "5ac68116-82e9-47ab-8cf7-7ba69594df6a",
   "metadata": {},
   "outputs": [
    {
     "name": "stdout",
     "output_type": "stream",
     "text": [
      "<xarray.DataArray 'Rad' (y: 3000, x: 5000)> Size: 60MB\n",
      "[15000000 values with dtype=float32]\n",
      "Coordinates:\n",
      "    t        datetime64[ns] 8B ...\n",
      "  * y        (y) float32 12kB 0.1282 0.1282 0.1282 ... 0.04431 0.04428 0.04425\n",
      "  * x        (x) float32 20kB -0.1013 -0.1013 -0.1013 ... 0.03857 0.0386 0.03863\n",
      "    y_image  float32 4B ...\n",
      "    x_image  float32 4B ...\n",
      "Attributes:\n",
      "    long_name:              ABI L1b Radiances\n",
      "    standard_name:          toa_outgoing_radiance_per_unit_wavelength\n",
      "    sensor_band_bit_depth:  10\n",
      "    valid_range:            [   0 1022]\n",
      "    units:                  W m-2 sr-1 um-1\n",
      "    resolution:             y: 0.000028 rad x: 0.000028 rad\n",
      "    grid_mapping:           goes_imager_projection\n",
      "    cell_methods:           t: point area: point\n",
      "    ancillary_variables:    DQF\n"
     ]
    }
   ],
   "source": [
    "print(data['Rad'])"
   ]
  },
  {
   "cell_type": "markdown",
   "id": "3057b89a-3e44-425d-93f5-8d5f4304cf11",
   "metadata": {},
   "source": [
    "# New Resource:\n",
    "\n",
    "https://www.goes-r.gov/downloads/resources/documents/Beginners_Guide_to_GOES-R_Series_Data.pdf\n",
    "\n",
    "\n"
   ]
  },
  {
   "cell_type": "markdown",
   "id": "f168af9f-4c95-4573-ba2e-101527f70fe7",
   "metadata": {},
   "source": [
    "## Types of data from the GOES-R satellites\n",
    "\n",
    "L0 is unprocessed and directly from the instruments \n",
    "L1b is processed and given units, also given in radiances instead of reflectance(kelvin) *still not sure what the difference is, will read more later*\n",
    "\n"
   ]
  },
  {
   "cell_type": "markdown",
   "id": "baedcfd9-72bd-4d86-8090-9b06510e0347",
   "metadata": {},
   "source": [
    "# TOMORROW: \n",
    "\n",
    "Use slides 20-21 from the PDF on how to begin working with GOES-R Data\n",
    "\n",
    "https://www.youtube.com/watch?v=aseEqNj3xF4\n",
    "\n",
    "Watch this video and begin using the Google Earth engine for visualizing this data\n",
    "\n",
    "Learn what radiance is and how it is different from reflectance\n",
    "\n",
    "Create a plot for at least 2 different metrics"
   ]
  },
  {
   "cell_type": "code",
   "execution_count": null,
   "id": "212c817f-c9a0-4a1e-8a3f-4bb651327c8f",
   "metadata": {},
   "outputs": [],
   "source": []
  }
 ],
 "metadata": {
  "kernelspec": {
   "display_name": "Python 3 (ipykernel)",
   "language": "python",
   "name": "python3"
  },
  "language_info": {
   "codemirror_mode": {
    "name": "ipython",
    "version": 3
   },
   "file_extension": ".py",
   "mimetype": "text/x-python",
   "name": "python",
   "nbconvert_exporter": "python",
   "pygments_lexer": "ipython3",
   "version": "3.10.12"
  }
 },
 "nbformat": 4,
 "nbformat_minor": 5
}

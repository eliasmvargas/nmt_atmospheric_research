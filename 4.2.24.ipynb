{
 "cells": [
  {
   "cell_type": "markdown",
   "id": "cbb1b4fe-dae5-4f4f-99e1-f64502849774",
   "metadata": {},
   "source": [
    "# Beginning with sample data\n",
    "- This data comes from the Netherlands. Right now, it's just some sample data to mess around with for now so that I can follow along with a tutorial.\n",
    "- http://opendap1.nodc.no/thredds/fileServer/chemistry/Chlorophyll/UNIS/AeN_SeaWaterChlorophyllA_20191210_P2.nc"
   ]
  },
  {
   "cell_type": "markdown",
   "id": "a28386f6-8c6d-4787-add8-6adf2c7d0bb6",
   "metadata": {},
   "source": [
    "### Installing the complete xarray package"
   ]
  },
  {
   "cell_type": "code",
   "execution_count": 3,
   "id": "735bcc5b-be5f-46e0-b445-fa3cb6bbdcbd",
   "metadata": {},
   "outputs": [
    {
     "name": "stdout",
     "output_type": "stream",
     "text": [
      "Defaulting to user installation because normal site-packages is not writeable\n",
      "Requirement already satisfied: xarray[complete] in /home/elias/.local/lib/python3.10/site-packages (2024.3.0)\n",
      "Requirement already satisfied: pandas>=1.5 in /home/elias/.local/lib/python3.10/site-packages (from xarray[complete]) (2.2.1)\n",
      "Requirement already satisfied: numpy>=1.23 in /home/elias/.local/lib/python3.10/site-packages (from xarray[complete]) (1.26.4)\n",
      "Requirement already satisfied: packaging>=22 in /home/elias/.local/lib/python3.10/site-packages (from xarray[complete]) (23.2)\n",
      "Requirement already satisfied: tzdata>=2022.7 in /home/elias/.local/lib/python3.10/site-packages (from pandas>=1.5->xarray[complete]) (2024.1)\n",
      "Requirement already satisfied: python-dateutil>=2.8.2 in /home/elias/.local/lib/python3.10/site-packages (from pandas>=1.5->xarray[complete]) (2.8.2)\n",
      "Requirement already satisfied: pytz>=2020.1 in /usr/lib/python3/dist-packages (from pandas>=1.5->xarray[complete]) (2022.1)\n",
      "Requirement already satisfied: seaborn in /home/elias/.local/lib/python3.10/site-packages (from xarray[complete]) (0.13.2)\n",
      "Requirement already satisfied: nc-time-axis in /home/elias/.local/lib/python3.10/site-packages (from xarray[complete]) (1.4.1)\n",
      "Requirement already satisfied: matplotlib in /home/elias/.local/lib/python3.10/site-packages (from xarray[complete]) (3.8.3)\n",
      "Requirement already satisfied: opt-einsum in /home/elias/.local/lib/python3.10/site-packages (from xarray[complete]) (3.3.0)\n",
      "Requirement already satisfied: flox in /home/elias/.local/lib/python3.10/site-packages (from xarray[complete]) (0.9.6)\n",
      "Requirement already satisfied: scipy in /home/elias/.local/lib/python3.10/site-packages (from xarray[complete]) (1.13.0)\n",
      "Requirement already satisfied: bottleneck in /home/elias/.local/lib/python3.10/site-packages (from xarray[complete]) (1.3.8)\n",
      "Requirement already satisfied: numbagg in /home/elias/.local/lib/python3.10/site-packages (from xarray[complete]) (0.8.1)\n",
      "Requirement already satisfied: pytest-cov in /home/elias/.local/lib/python3.10/site-packages (from xarray[complete]) (5.0.0)\n",
      "Requirement already satisfied: ruff in /home/elias/.local/lib/python3.10/site-packages (from xarray[complete]) (0.3.5)\n",
      "Requirement already satisfied: pytest-timeout in /home/elias/.local/lib/python3.10/site-packages (from xarray[complete]) (2.3.1)\n",
      "Requirement already satisfied: pre-commit in /home/elias/.local/lib/python3.10/site-packages (from xarray[complete]) (3.7.0)\n",
      "Requirement already satisfied: pytest-env in /home/elias/.local/lib/python3.10/site-packages (from xarray[complete]) (1.1.3)\n",
      "Requirement already satisfied: pytest in /home/elias/.local/lib/python3.10/site-packages (from xarray[complete]) (8.1.1)\n",
      "Requirement already satisfied: hypothesis in /home/elias/.local/lib/python3.10/site-packages (from xarray[complete]) (6.100.0)\n",
      "Requirement already satisfied: pytest-xdist in /home/elias/.local/lib/python3.10/site-packages (from xarray[complete]) (3.5.0)\n",
      "Requirement already satisfied: zarr in /home/elias/.local/lib/python3.10/site-packages (from xarray[complete]) (2.17.1)\n",
      "Requirement already satisfied: cftime in /home/elias/.local/lib/python3.10/site-packages (from xarray[complete]) (1.6.3)\n",
      "Requirement already satisfied: h5netcdf in /home/elias/.local/lib/python3.10/site-packages (from xarray[complete]) (1.3.0)\n",
      "Requirement already satisfied: netCDF4 in /home/elias/.local/lib/python3.10/site-packages (from xarray[complete]) (1.6.5)\n",
      "Requirement already satisfied: pooch in /home/elias/.local/lib/python3.10/site-packages (from xarray[complete]) (1.8.1)\n",
      "Requirement already satisfied: fsspec in /home/elias/.local/lib/python3.10/site-packages (from xarray[complete]) (2024.3.1)\n",
      "Requirement already satisfied: dask[complete] in /home/elias/.local/lib/python3.10/site-packages (from xarray[complete]) (2024.4.0)\n",
      "Requirement already satisfied: six>=1.5 in /usr/lib/python3/dist-packages (from python-dateutil>=2.8.2->pandas>=1.5->xarray[complete]) (1.16.0)\n",
      "Requirement already satisfied: click>=8.1 in /home/elias/.local/lib/python3.10/site-packages (from dask[complete]->xarray[complete]) (8.1.7)\n",
      "Requirement already satisfied: partd>=1.2.0 in /home/elias/.local/lib/python3.10/site-packages (from dask[complete]->xarray[complete]) (1.4.1)\n",
      "Requirement already satisfied: pyyaml>=5.3.1 in /usr/lib/python3/dist-packages (from dask[complete]->xarray[complete]) (5.4.1)\n",
      "Requirement already satisfied: importlib-metadata>=4.13.0 in /home/elias/.local/lib/python3.10/site-packages (from dask[complete]->xarray[complete]) (7.1.0)\n",
      "Requirement already satisfied: toolz>=0.10.0 in /home/elias/.local/lib/python3.10/site-packages (from dask[complete]->xarray[complete]) (0.12.1)\n",
      "Requirement already satisfied: cloudpickle>=1.5.0 in /home/elias/.local/lib/python3.10/site-packages (from dask[complete]->xarray[complete]) (3.0.0)\n",
      "Requirement already satisfied: pyarrow>=7.0 in /home/elias/.local/lib/python3.10/site-packages (from dask[complete]->xarray[complete]) (15.0.2)\n",
      "Requirement already satisfied: pyarrow-hotfix in /home/elias/.local/lib/python3.10/site-packages (from dask[complete]->xarray[complete]) (0.6)\n",
      "Requirement already satisfied: lz4>=4.3.2 in /home/elias/.local/lib/python3.10/site-packages (from dask[complete]->xarray[complete]) (4.3.3)\n",
      "Requirement already satisfied: numpy-groupies>=0.9.19 in /home/elias/.local/lib/python3.10/site-packages (from flox->xarray[complete]) (0.10.2)\n",
      "Requirement already satisfied: h5py in /home/elias/.local/lib/python3.10/site-packages (from h5netcdf->xarray[complete]) (3.10.0)\n",
      "Requirement already satisfied: attrs>=22.2.0 in /home/elias/.local/lib/python3.10/site-packages (from hypothesis->xarray[complete]) (23.2.0)\n",
      "Requirement already satisfied: sortedcontainers<3.0.0,>=2.1.0 in /home/elias/.local/lib/python3.10/site-packages (from hypothesis->xarray[complete]) (2.4.0)\n",
      "Requirement already satisfied: exceptiongroup>=1.0.0 in /home/elias/.local/lib/python3.10/site-packages (from hypothesis->xarray[complete]) (1.2.0)\n",
      "Requirement already satisfied: fonttools>=4.22.0 in /home/elias/.local/lib/python3.10/site-packages (from matplotlib->xarray[complete]) (4.50.0)\n",
      "Requirement already satisfied: kiwisolver>=1.3.1 in /home/elias/.local/lib/python3.10/site-packages (from matplotlib->xarray[complete]) (1.4.5)\n",
      "Requirement already satisfied: cycler>=0.10 in /home/elias/.local/lib/python3.10/site-packages (from matplotlib->xarray[complete]) (0.12.1)\n",
      "Requirement already satisfied: pillow>=8 in /usr/lib/python3/dist-packages (from matplotlib->xarray[complete]) (9.0.1)\n",
      "Requirement already satisfied: contourpy>=1.0.1 in /home/elias/.local/lib/python3.10/site-packages (from matplotlib->xarray[complete]) (1.2.1)\n",
      "Requirement already satisfied: pyparsing>=2.3.1 in /usr/lib/python3/dist-packages (from matplotlib->xarray[complete]) (2.4.7)\n",
      "Requirement already satisfied: certifi in /usr/lib/python3/dist-packages (from netCDF4->xarray[complete]) (2020.6.20)\n",
      "Requirement already satisfied: numba in /home/elias/.local/lib/python3.10/site-packages (from numbagg->xarray[complete]) (0.59.1)\n",
      "Requirement already satisfied: platformdirs>=2.5.0 in /home/elias/.local/lib/python3.10/site-packages (from pooch->xarray[complete]) (4.2.0)\n",
      "Requirement already satisfied: requests>=2.19.0 in /home/elias/.local/lib/python3.10/site-packages (from pooch->xarray[complete]) (2.31.0)\n",
      "Requirement already satisfied: cfgv>=2.0.0 in /home/elias/.local/lib/python3.10/site-packages (from pre-commit->xarray[complete]) (3.4.0)\n",
      "Requirement already satisfied: nodeenv>=0.11.1 in /home/elias/.local/lib/python3.10/site-packages (from pre-commit->xarray[complete]) (1.8.0)\n",
      "Requirement already satisfied: identify>=1.0.0 in /home/elias/.local/lib/python3.10/site-packages (from pre-commit->xarray[complete]) (2.5.35)\n",
      "Requirement already satisfied: virtualenv>=20.10.0 in /home/elias/.local/lib/python3.10/site-packages (from pre-commit->xarray[complete]) (20.25.1)\n",
      "Requirement already satisfied: tomli>=1 in /home/elias/.local/lib/python3.10/site-packages (from pytest->xarray[complete]) (2.0.1)\n",
      "Requirement already satisfied: iniconfig in /home/elias/.local/lib/python3.10/site-packages (from pytest->xarray[complete]) (2.0.0)\n",
      "Requirement already satisfied: pluggy<2.0,>=1.4 in /home/elias/.local/lib/python3.10/site-packages (from pytest->xarray[complete]) (1.4.0)\n",
      "Requirement already satisfied: coverage[toml]>=5.2.1 in /home/elias/.local/lib/python3.10/site-packages (from pytest-cov->xarray[complete]) (7.4.4)\n",
      "Requirement already satisfied: execnet>=1.1 in /home/elias/.local/lib/python3.10/site-packages (from pytest-xdist->xarray[complete]) (2.0.2)\n",
      "Requirement already satisfied: fasteners in /usr/lib/python3/dist-packages (from zarr->xarray[complete]) (0.14.1)\n",
      "Requirement already satisfied: numcodecs>=0.10.0 in /home/elias/.local/lib/python3.10/site-packages (from zarr->xarray[complete]) (0.12.1)\n",
      "Requirement already satisfied: asciitree in /home/elias/.local/lib/python3.10/site-packages (from zarr->xarray[complete]) (0.3.3)\n",
      "Requirement already satisfied: zipp>=0.5 in /usr/lib/python3/dist-packages (from importlib-metadata>=4.13.0->dask[complete]->xarray[complete]) (1.0.0)\n",
      "Requirement already satisfied: setuptools in /usr/lib/python3/dist-packages (from nodeenv>=0.11.1->pre-commit->xarray[complete]) (59.6.0)\n",
      "Requirement already satisfied: locket in /home/elias/.local/lib/python3.10/site-packages (from partd>=1.2.0->dask[complete]->xarray[complete]) (1.0.0)\n",
      "Requirement already satisfied: charset-normalizer<4,>=2 in /home/elias/.local/lib/python3.10/site-packages (from requests>=2.19.0->pooch->xarray[complete]) (3.3.2)\n",
      "Requirement already satisfied: urllib3<3,>=1.21.1 in /usr/lib/python3/dist-packages (from requests>=2.19.0->pooch->xarray[complete]) (1.26.5)\n",
      "Requirement already satisfied: idna<4,>=2.5 in /usr/lib/python3/dist-packages (from requests>=2.19.0->pooch->xarray[complete]) (3.3)\n",
      "Requirement already satisfied: distlib<1,>=0.3.7 in /home/elias/.local/lib/python3.10/site-packages (from virtualenv>=20.10.0->pre-commit->xarray[complete]) (0.3.8)\n",
      "Requirement already satisfied: filelock<4,>=3.12.2 in /home/elias/.local/lib/python3.10/site-packages (from virtualenv>=20.10.0->pre-commit->xarray[complete]) (3.13.3)\n",
      "Requirement already satisfied: dask-expr<1.1,>=1.0 in /home/elias/.local/lib/python3.10/site-packages (from dask[complete]->xarray[complete]) (1.0.9)\n",
      "Requirement already satisfied: distributed==2024.4.0 in /home/elias/.local/lib/python3.10/site-packages (from dask[complete]->xarray[complete]) (2024.4.0)\n",
      "Requirement already satisfied: jinja2>=2.10.3 in /home/elias/.local/lib/python3.10/site-packages (from dask[complete]->xarray[complete]) (3.1.3)\n",
      "Requirement already satisfied: bokeh>=2.4.2 in /home/elias/.local/lib/python3.10/site-packages (from dask[complete]->xarray[complete]) (3.4.0)\n",
      "Requirement already satisfied: zict>=3.0.0 in /home/elias/.local/lib/python3.10/site-packages (from distributed==2024.4.0->dask[complete]->xarray[complete]) (3.0.0)\n",
      "Requirement already satisfied: psutil>=5.7.2 in /home/elias/.local/lib/python3.10/site-packages (from distributed==2024.4.0->dask[complete]->xarray[complete]) (5.9.8)\n",
      "Requirement already satisfied: msgpack>=1.0.0 in /usr/lib/python3/dist-packages (from distributed==2024.4.0->dask[complete]->xarray[complete]) (1.0.3)\n",
      "Requirement already satisfied: tblib>=1.6.0 in /home/elias/.local/lib/python3.10/site-packages (from distributed==2024.4.0->dask[complete]->xarray[complete]) (3.0.0)\n",
      "Requirement already satisfied: tornado>=6.0.4 in /home/elias/.local/lib/python3.10/site-packages (from distributed==2024.4.0->dask[complete]->xarray[complete]) (6.4)\n",
      "Requirement already satisfied: llvmlite<0.43,>=0.42.0dev0 in /home/elias/.local/lib/python3.10/site-packages (from numba->numbagg->xarray[complete]) (0.42.0)\n",
      "Requirement already satisfied: xyzservices>=2021.09.1 in /home/elias/.local/lib/python3.10/site-packages (from bokeh>=2.4.2->dask[complete]->xarray[complete]) (2024.4.0)\n",
      "Requirement already satisfied: MarkupSafe>=2.0 in /usr/lib/python3/dist-packages (from jinja2>=2.10.3->dask[complete]->xarray[complete]) (2.0.1)\n",
      "Note: you may need to restart the kernel to use updated packages.\n"
     ]
    }
   ],
   "source": [
    "pip install xarray[complete]"
   ]
  },
  {
   "cell_type": "code",
   "execution_count": 4,
   "id": "3d88e448-e1d5-4343-ba65-7419d59fa925",
   "metadata": {},
   "outputs": [],
   "source": [
    "import pandas as pd\n",
    "import xarray as xr\n",
    "\n",
    "data = xr.open_dataset('AeN_SeaWaterChlorophyllA_20191210_P2.nc')"
   ]
  },
  {
   "cell_type": "markdown",
   "id": "59a29f27-855c-4e3d-bf28-a4665fd7ce61",
   "metadata": {},
   "source": [
    "*Importing necessary libraries and the data*"
   ]
  },
  {
   "cell_type": "code",
   "execution_count": 5,
   "id": "d1cac099-7ab0-4292-bf5a-e58ce3ce6d7b",
   "metadata": {},
   "outputs": [
    {
     "name": "stdout",
     "output_type": "stream",
     "text": [
      "<xarray.Dataset> Size: 53kB\n",
      "Dimensions:          (DEPTH: 168, NCHAR: 36)\n",
      "Coordinates:\n",
      "  * DEPTH            (DEPTH) float64 1kB 10.0 11.0 12.0 ... 175.0 176.0 177.0\n",
      "  * NCHAR            (NCHAR) float64 288B 0.0 1.0 2.0 3.0 ... 33.0 34.0 35.0\n",
      "Data variables:\n",
      "    CHLOROPHYLL_A    (DEPTH) float64 1kB ...\n",
      "    FILTERED_VOLUME  (DEPTH) float32 672B ...\n",
      "    PHAEOPIGMENT     (DEPTH) float64 1kB ...\n",
      "    EVENT_ID         (DEPTH, NCHAR) object 48kB ...\n",
      "Attributes: (12/38)\n",
      "    id:                   37ca1c97-7fe4-58ca-8dac-838c4318979c\n",
      "    naming_authority:     The University Centre in Svalbard, Norway\n",
      "    title:                Chl a and phaeopigments AeN2019706\n",
      "    summary:              \\n            This dataset is a collection of the a...\n",
      "    keywords:             Oceans > Ocean chemistry > Chlorophyll\n",
      "    keywords_vocabulary:  GCMD Science Keywords\n",
      "    ...                   ...\n",
      "    sampleType:           Chlorophyll a tot\n",
      "    pi_name:              Anna Vader\n",
      "    pi_institution:       UNIS\n",
      "    pi_email:             annav@unis.no\n",
      "    pi_address:           Forskningsparken, Longyearbyen\n",
      "    bottomDepthInMetres:  190.0\n"
     ]
    }
   ],
   "source": [
    "print(data)"
   ]
  },
  {
   "cell_type": "markdown",
   "id": "95e76076-de14-4a42-939c-ba8f2ef87df1",
   "metadata": {},
   "source": [
    "#### notes: Printing the data \"Chunk\" itself yields the metadata; Self describing part of the NetCDF file. Very handy!"
   ]
  },
  {
   "cell_type": "code",
   "execution_count": 6,
   "id": "27d33c94-eb50-4dce-ab93-9ad1d56ba4aa",
   "metadata": {},
   "outputs": [
    {
     "name": "stdout",
     "output_type": "stream",
     "text": [
      "{'id': '37ca1c97-7fe4-58ca-8dac-838c4318979c', 'naming_authority': 'The University Centre in Svalbard, Norway', 'title': 'Chl a and phaeopigments AeN2019706', 'summary': '\\n            This dataset is a collection of the acid-corrected chlorophyll A and phaeopigments measurements taken as part of the Nansen Legacy project \\n            (www.arvenetternansen.com). The data is from a single depth profile from station P2 taken on 2019-12-10 at \\n            34.0050577166667°E and 77.4996566666667°N. Samples were collected from different depths of the water column.', 'keywords': 'Oceans > Ocean chemistry > Chlorophyll', 'keywords_vocabulary': 'GCMD Science Keywords', 'geospatial_lat_min': 77.4996566666667, 'geospatial_lat_max': 77.4996566666667, 'geospatial_lon_min': 34.0050577166667, 'geospatial_lon_max': 34.0050577166667, 'time_coverage_start': '2019-12-10T16:38:00Z', 'time_coverage_end': '2019-12-10T16:38:00Z', 'Conventions': 'ACDD-1.3, CF-1.8', 'history': \"File created at 2021-02-05T08:38:45 using Python's netcdf4\", 'source': 'Chlorophyll A from Niskin bottle', 'processing_level': '\\n            Acid corrected Chlorophyll A and Phaeopigment data.\\n            The sampling protocol can be found in section 8.22 of  \\n            https://sios-svalbard.org/sites/sios-svalbard.org/files/common/AeN/Nansen_Legacy_Sampling_Protocols_Version_1.pdf        ', 'date_created': '2021-02-05T08:38:45', 'creator_type': 'person', 'creator_institution': 'UNIS, UiO', 'creator_name': 'Anna Vader, Rita Amundsen', 'creator_email': 'annav@unis.no, rita.amundsen@ibv.uio.no', 'creator_url': 'https://www.unis.no/staff/anna-vader/, https://www.mn.uio.no/ibv/english/people/adm/ritaa/index.html', 'institution': 'UNIS', 'publisher_name': 'Luke Marsden', 'publisher_email': 'lukem@unis.no', 'publisher_url': 'https://www.unis.no/staff/luke-marsden/', 'project': 'The Nansen Legacy (RCN # 276730)', 'acknowledgements': 'Funded by the Research Council of Norway', 'stationName': 'P2', 'cruiseNumber': 2019711.0, 'recordedBy': 'Miriam, Yasemin, Anna', 'samplingProtocol': 'The sampling protocol can be found in section 8.22 of  \\n            https://sios-svalbard.org/sites/sios-svalbard.org/files/common/AeN/Nansen_Legacy_Sampling_Protocols_Version_1.pdf', 'sampleType': 'Chlorophyll a tot', 'pi_name': 'Anna Vader', 'pi_institution': 'UNIS', 'pi_email': 'annav@unis.no', 'pi_address': 'Forskningsparken, Longyearbyen', 'bottomDepthInMetres': 190.0}\n"
     ]
    }
   ],
   "source": [
    "print(data.attrs)"
   ]
  },
  {
   "cell_type": "markdown",
   "id": "a6f27d74-31ca-4790-8b93-62b8047b2f8d",
   "metadata": {},
   "source": [
    "#### notes: appending .attrs selects only the attributes. Further appending with list/dict notation gets more specific; see below:"
   ]
  },
  {
   "cell_type": "code",
   "execution_count": 7,
   "id": "d3282622-2bec-462a-ae46-76e6d2091dd5",
   "metadata": {},
   "outputs": [
    {
     "name": "stdout",
     "output_type": "stream",
     "text": [
      "Anna Vader, Rita Amundsen\n"
     ]
    }
   ],
   "source": [
    "print(data.attrs['creator_name'])"
   ]
  },
  {
   "cell_type": "code",
   "execution_count": 8,
   "id": "5cab97be-501e-4658-a297-43656793fc34",
   "metadata": {},
   "outputs": [
    {
     "name": "stdout",
     "output_type": "stream",
     "text": [
      "Data variables:\n",
      "    CHLOROPHYLL_A    (DEPTH) float64 1kB ...\n",
      "    FILTERED_VOLUME  (DEPTH) float32 672B ...\n",
      "    PHAEOPIGMENT     (DEPTH) float64 1kB ...\n",
      "    EVENT_ID         (DEPTH, NCHAR) object 48kB ...\n"
     ]
    }
   ],
   "source": [
    "print(data.data_vars)"
   ]
  },
  {
   "cell_type": "code",
   "execution_count": 9,
   "id": "887e19e9-062a-48a3-a7c6-e55c3e64848a",
   "metadata": {},
   "outputs": [
    {
     "name": "stdout",
     "output_type": "stream",
     "text": [
      "Data variables:\n",
      "    CHLOROPHYLL_A    (DEPTH) float64 1kB ...\n",
      "    FILTERED_VOLUME  (DEPTH) float32 672B ...\n",
      "    PHAEOPIGMENT     (DEPTH) float64 1kB ...\n",
      "    EVENT_ID         (DEPTH, NCHAR) object 48kB ...\n"
     ]
    }
   ],
   "source": [
    "print(data.data_vars)"
   ]
  },
  {
   "cell_type": "code",
   "execution_count": 10,
   "id": "06ed64d5-61ab-4b18-95fe-0407948180c1",
   "metadata": {},
   "outputs": [
    {
     "name": "stdout",
     "output_type": "stream",
     "text": [
      "<xarray.DataArray 'FILTERED_VOLUME' (DEPTH: 168)> Size: 672B\n",
      "[168 values with dtype=float32]\n",
      "Coordinates:\n",
      "  * DEPTH    (DEPTH) float64 1kB 10.0 11.0 12.0 13.0 ... 174.0 175.0 176.0 177.0\n",
      "Attributes:\n",
      "    units:                  l\n",
      "    long_name:              Volume of sea water filtered for measurement\n",
      "    coverage_content_type:  physicalMeasurement\n"
     ]
    }
   ],
   "source": [
    "print(data['FILTERED_VOLUME'])"
   ]
  },
  {
   "cell_type": "markdown",
   "id": "6044d6dc-00cc-4c2d-b523-7b4117145b32",
   "metadata": {},
   "source": [
    "## Using basic plotting capability of xarray\n",
    "see more: https://docs.xarray.dev/en/latest/user-guide/plotting.html"
   ]
  },
  {
   "cell_type": "code",
   "execution_count": 11,
   "id": "ecf73914-79d2-4b6e-9279-f1c268ffb901",
   "metadata": {},
   "outputs": [
    {
     "data": {
      "text/plain": [
       "<matplotlib.collections.PathCollection at 0x7f7e59bd8a30>"
      ]
     },
     "execution_count": 11,
     "metadata": {},
     "output_type": "execute_result"
    },
    {
     "data": {
      "image/png": "[encoded data removed]",
      "text/plain": [
       "<Figure size 640x480 with 1 Axes>"
      ]
     },
     "metadata": {},
     "output_type": "display_data"
    }
   ],
   "source": [
    "xr.plot.scatter(data, x='CHLOROPHYLL_A', y='DEPTH')"
   ]
  },
  {
   "cell_type": "code",
   "execution_count": 12,
   "id": "028fe83b-12d6-4c2a-b199-e60b97dcaeda",
   "metadata": {},
   "outputs": [
    {
     "data": {
      "text/plain": [
       "[<matplotlib.lines.Line2D at 0x7f7e57af8160>]"
      ]
     },
     "execution_count": 12,
     "metadata": {},
     "output_type": "execute_result"
    }
   ],
   "source": [
    "xr.plot.line(data['CHLOROPHYLL_A'].dropna('DEPTH'),y='DEPTH')"
   ]
  },
  {
   "cell_type": "markdown",
   "id": "3aa91f0f-6370-4ad8-ad11-7424e4d7c2ce",
   "metadata": {},
   "source": [
    "#### note: .dropna Returns a new array with dropped labels for missing values along the provided dimension."
   ]
  },
  {
   "cell_type": "markdown",
   "id": "13bc1c7f-7b86-46c0-bf52-f2d5427bbe99",
   "metadata": {},
   "source": [
    "## Using xarray to create tables (dataframes)"
   ]
  },
  {
   "cell_type": "code",
   "execution_count": 13,
   "id": "df26a684-de3c-4869-ae66-29a6c0c445d7",
   "metadata": {},
   "outputs": [],
   "source": [
    "dataframe = data['CHLOROPHYLL_A'].dropna('DEPTH').to_dataframe()\n",
    "print(dataframe)"
   ]
  },
  {
   "cell_type": "markdown",
   "id": "04b7cf6d-6a3d-465c-9ac1-e71abfc5ce7c",
   "metadata": {},
   "source": [
    "#### note: When graphing more than one data, use double square brackets around them^^"
   ]
  },
  {
   "cell_type": "code",
   "execution_count": 16,
   "id": "ccacb1bf-70e7-4542-8cf8-957676793f88",
   "metadata": {},
   "outputs": [
    {
     "name": "stdout",
     "output_type": "stream",
     "text": [
      "       CHLOROPHYLL_A  FILTERED_VOLUME\n",
      "DEPTH                                \n",
      "10.0        0.000004              1.0\n",
      "20.0        0.000005              1.0\n",
      "30.0        0.000004              1.0\n",
      "40.0        0.000004              1.0\n",
      "50.0        0.000004              1.0\n",
      "60.0        0.000004              1.0\n",
      "90.0        0.000006              1.0\n",
      "120.0       0.000004              1.0\n",
      "150.0       0.000003              1.0\n",
      "177.0       0.000008              1.0\n"
     ]
    }
   ],
   "source": [
    "print(dataframe)"
   ]
  },
  {
   "cell_type": "code",
   "execution_count": 19,
   "id": "c2e6812c-744c-420a-a316-6d7dd94fdbd5",
   "metadata": {},
   "outputs": [],
   "source": [
    "import os\n",
    "dataframe.to_csv(os.getcwd() + \"/test.csv\")"
   ]
  },
  {
   "cell_type": "markdown",
   "id": "5af7db7f-bcc1-46fd-84ca-5f8189614027",
   "metadata": {},
   "source": [
    "#### note: Export dataframes to CSV or excell using data.to_csv(path) or data.to_excell(path). CSV or xlsx files respectively."
   ]
  },
  {
   "cell_type": "code",
   "execution_count": 21,
   "id": "0f439abb-acc6-4034-ba62-a114960893e2",
   "metadata": {},
   "outputs": [
    {
     "name": "stdout",
     "output_type": "stream",
     "text": [
      "kg m-3\n"
     ]
    }
   ],
   "source": [
    "print(data['CHLOROPHYLL_A'].attrs['units'])"
   ]
  },
  {
   "cell_type": "markdown",
   "id": "842dc47c-c9a3-4ff7-9ea6-209ac2a74f3f",
   "metadata": {},
   "source": [
    "Able to check other attributes within data items using the .attrs method"
   ]
  },
  {
   "cell_type": "code",
   "execution_count": 24,
   "id": "11bfadb1-b822-4c12-a81e-72faf3cb1bae",
   "metadata": {},
   "outputs": [
    {
     "name": "stdout",
     "output_type": "stream",
     "text": [
      "[3.50973675e-06 5.20004475e-06 3.80319300e-06 4.28446125e-06\n",
      " 3.61538100e-06 4.44879675e-06 5.75174250e-06 4.39010550e-06\n",
      " 3.47452200e-06 8.47501650e-06]\n"
     ]
    }
   ],
   "source": [
    "import numpy as np\n",
    "chla_array = np.array(data['CHLOROPHYLL_A'].dropna('DEPTH'))\n",
    "print(chla_array)"
   ]
  },
  {
   "cell_type": "markdown",
   "id": "be7fd3d9-6a9b-449e-aac5-7a1547e22d1a",
   "metadata": {},
   "source": [
    "Converting the data to a numpy array"
   ]
  }
 ],
 "metadata": {
  "kernelspec": {
   "display_name": "Python 3 (ipykernel)",
   "language": "python",
   "name": "python3"
  },
  "language_info": {
   "codemirror_mode": {
    "name": "ipython",
    "version": 3
   },
   "file_extension": ".py",
   "mimetype": "text/x-python",
   "name": "python",
   "nbconvert_exporter": "python",
   "pygments_lexer": "ipython3",
   "version": "3.10.12"
  }
 },
 "nbformat": 4,
 "nbformat_minor": 5
}

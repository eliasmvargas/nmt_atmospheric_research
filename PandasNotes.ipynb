{
 "cells": [
  {
   "cell_type": "markdown",
   "id": "7472e640-4dc7-48cc-b306-d4956e48ad5b",
   "metadata": {},
   "source": [
    "# Pandas!"
   ]
  },
  {
   "cell_type": "code",
   "execution_count": 20,
   "id": "d6880faf-0898-48d8-afd7-d0094a790b80",
   "metadata": {},
   "outputs": [],
   "source": [
    "import pandas as pd\n",
    "import numpy as np"
   ]
  },
  {
   "cell_type": "code",
   "execution_count": 21,
   "id": "1f105a08-e4b6-41e0-b38a-0b3626ee3321",
   "metadata": {},
   "outputs": [],
   "source": [
    "S_1 = pd.Series([50, 2050, 900, 96, 11])"
   ]
  },
  {
   "cell_type": "code",
   "execution_count": 22,
   "id": "284cc66e-e71e-4245-8653-88bf48e68dea",
   "metadata": {},
   "outputs": [],
   "source": [
    "S_1.name='Gibberish'"
   ]
  },
  {
   "cell_type": "code",
   "execution_count": 23,
   "id": "93667644-b603-4222-a8be-024cf5703149",
   "metadata": {},
   "outputs": [
    {
     "data": {
      "text/plain": [
       "0      50\n",
       "1    2050\n",
       "2     900\n",
       "3      96\n",
       "4      11\n",
       "Name: Gibberish, dtype: int64"
      ]
     },
     "execution_count": 23,
     "metadata": {},
     "output_type": "execute_result"
    }
   ],
   "source": [
    "S_1"
   ]
  },
  {
   "cell_type": "code",
   "execution_count": 24,
   "id": "80ee7d87-97e6-4107-b9f5-90771b74a9c1",
   "metadata": {},
   "outputs": [
    {
     "data": {
      "text/plain": [
       "pandas.core.series.Series"
      ]
     },
     "execution_count": 24,
     "metadata": {},
     "output_type": "execute_result"
    }
   ],
   "source": [
    "type(S_1)"
   ]
  },
  {
   "cell_type": "code",
   "execution_count": 25,
   "id": "48a2d58b-4e87-4050-9c5f-a11481761836",
   "metadata": {},
   "outputs": [
    {
     "data": {
      "text/plain": [
       "numpy.ndarray"
      ]
     },
     "execution_count": 25,
     "metadata": {},
     "output_type": "execute_result"
    }
   ],
   "source": [
    "type(S_1.values)"
   ]
  },
  {
   "cell_type": "code",
   "execution_count": 26,
   "id": "e1050885-22ca-467b-a274-662fc1ef859f",
   "metadata": {},
   "outputs": [
    {
     "data": {
      "text/plain": [
       "0      50\n",
       "1    2050\n",
       "2     900\n",
       "3      96\n",
       "Name: Gibberish, dtype: int64"
      ]
     },
     "execution_count": 26,
     "metadata": {},
     "output_type": "execute_result"
    }
   ],
   "source": [
    "S_1[0:-1]"
   ]
  },
  {
   "cell_type": "code",
   "execution_count": 27,
   "id": "f689e5cc-2863-4460-836c-605e6d7147ce",
   "metadata": {},
   "outputs": [
    {
     "data": {
      "text/plain": [
       "RangeIndex(start=0, stop=5, step=1)"
      ]
     },
     "execution_count": 27,
     "metadata": {},
     "output_type": "execute_result"
    }
   ],
   "source": [
    "S_1.index"
   ]
  },
  {
   "cell_type": "markdown",
   "id": "57c039a8-5d6d-412c-bf77-1df370c2761d",
   "metadata": {},
   "source": [
    "We can change the index of a series to anything we want"
   ]
  },
  {
   "cell_type": "code",
   "execution_count": 28,
   "id": "9c42edd0-b819-4b42-87ce-2ed6440d2b88",
   "metadata": {},
   "outputs": [],
   "source": [
    "S_1.index = ['Item1', 'Item2', 'Item3','Item4','Item5']"
   ]
  },
  {
   "cell_type": "code",
   "execution_count": 29,
   "id": "01e60c25-f25b-4378-a24f-f56415556fc8",
   "metadata": {},
   "outputs": [
    {
     "data": {
      "text/plain": [
       "Item1      50\n",
       "Item2    2050\n",
       "Item3     900\n",
       "Item4      96\n",
       "Item5      11\n",
       "Name: Gibberish, dtype: int64"
      ]
     },
     "execution_count": 29,
     "metadata": {},
     "output_type": "execute_result"
    }
   ],
   "source": [
    "S_1"
   ]
  },
  {
   "cell_type": "code",
   "execution_count": 30,
   "id": "8bd47c1f-1b8f-479e-bd48-6c44a37d9de9",
   "metadata": {},
   "outputs": [
    {
     "data": {
      "text/plain": [
       "Item1    0\n",
       "Item2    1\n",
       "Item3    2\n",
       "Item4    3\n",
       "Item5    4\n",
       "dtype: int64"
      ]
     },
     "execution_count": 30,
     "metadata": {},
     "output_type": "execute_result"
    }
   ],
   "source": [
    "pd.Series(np.arange(5), index=['Item1', 'Item2', 'Item3', 'Item4', 'Item5'])"
   ]
  },
  {
   "cell_type": "markdown",
   "id": "c7aedf79-4f64-461a-88b4-9fc3faf35f37",
   "metadata": {},
   "source": [
    "or it can be done like a dictionary:"
   ]
  },
  {
   "cell_type": "code",
   "execution_count": 52,
   "id": "be6acb74-b19b-4867-96a2-61cd35e7389c",
   "metadata": {},
   "outputs": [],
   "source": [
    "pop = pd.Series({\n",
    "    'Rome' : 2.873,\n",
    "    'Albuquerque' : 0.561,\n",
    "    'Socorro': 0.008,\n",
    "    'Shanghai': 26.32,\n",
    "}, name=\"City population in millions\")"
   ]
  },
  {
   "cell_type": "code",
   "execution_count": 32,
   "id": "307ae357-68d1-4751-a8c6-8381cd50a8b0",
   "metadata": {},
   "outputs": [
    {
     "data": {
      "text/plain": [
       "Rome            2.873\n",
       "Albuquerque     0.561\n",
       "Socorro         0.008\n",
       "Shanghai       26.320\n",
       "Name: City population in millions, dtype: float64"
      ]
     },
     "execution_count": 32,
     "metadata": {},
     "output_type": "execute_result"
    }
   ],
   "source": [
    "pop"
   ]
  },
  {
   "cell_type": "markdown",
   "id": "b3a9da31-84ff-419a-b6f3-27d66bfcf68b",
   "metadata": {},
   "source": [
    "Created index labels are now how we access the data"
   ]
  },
  {
   "cell_type": "code",
   "execution_count": 33,
   "id": "402ba66e-8b02-4623-8107-4f2ec55c2a9a",
   "metadata": {},
   "outputs": [
    {
     "data": {
      "text/plain": [
       "'City population in millions'"
      ]
     },
     "execution_count": 33,
     "metadata": {},
     "output_type": "execute_result"
    }
   ],
   "source": [
    "pop.name"
   ]
  },
  {
   "cell_type": "code",
   "execution_count": 34,
   "id": "16605759-2502-4e94-80b6-fe01ca4e9622",
   "metadata": {},
   "outputs": [
    {
     "data": {
      "text/plain": [
       "2.873"
      ]
     },
     "execution_count": 34,
     "metadata": {},
     "output_type": "execute_result"
    }
   ],
   "source": [
    "pop['Rome']"
   ]
  },
  {
   "cell_type": "code",
   "execution_count": 35,
   "id": "8d254f54-67f7-4bb2-a05e-368e5e8169d5",
   "metadata": {},
   "outputs": [
    {
     "data": {
      "text/plain": [
       "2.873"
      ]
     },
     "execution_count": 35,
     "metadata": {},
     "output_type": "execute_result"
    }
   ],
   "source": [
    "pop.iloc[0]"
   ]
  },
  {
   "cell_type": "code",
   "execution_count": 36,
   "id": "bcfb2cd2-5295-429a-96c3-5f8bd4a0a3f3",
   "metadata": {},
   "outputs": [
    {
     "name": "stderr",
     "output_type": "stream",
     "text": [
      "/var/folders/4y/nvb7cs992pj9xzv4_vbvcxh80000gn/T/ipykernel_8151/2978893806.py:1: FutureWarning: Series.__getitem__ treating keys as positions is deprecated. In a future version, integer keys will always be treated as labels (consistent with DataFrame behavior). To access a value by position, use `ser.iloc[pos]`\n",
      "  pop[0]\n"
     ]
    },
    {
     "data": {
      "text/plain": [
       "2.873"
      ]
     },
     "execution_count": 36,
     "metadata": {},
     "output_type": "execute_result"
    }
   ],
   "source": [
    "pop[0]"
   ]
  },
  {
   "cell_type": "code",
   "execution_count": null,
   "id": "1e222e04-385e-4b84-b056-919b12b43cde",
   "metadata": {},
   "outputs": [],
   "source": []
  },
  {
   "cell_type": "markdown",
   "id": "75ed5f99-1b33-4b78-97ea-dafafcc1d29d",
   "metadata": {},
   "source": [
    "Actual index numbers can be used as well with the .iloc feature.\n",
    "Using array notation spits out issues"
   ]
  },
  {
   "cell_type": "code",
   "execution_count": 37,
   "id": "0741ac34-4dc4-4200-841d-db092a160cd0",
   "metadata": {},
   "outputs": [
    {
     "data": {
      "text/plain": [
       "Rome            2.873\n",
       "Albuquerque     0.561\n",
       "Socorro         0.008\n",
       "Shanghai       26.320\n",
       "Name: City population in millions, dtype: float64"
      ]
     },
     "execution_count": 37,
     "metadata": {},
     "output_type": "execute_result"
    }
   ],
   "source": [
    "pop['Rome':'Shanghai']"
   ]
  },
  {
   "cell_type": "markdown",
   "id": "1f9828e1-fd17-40b6-99e5-4ff64913ac54",
   "metadata": {},
   "source": [
    "Slices include the endpoints"
   ]
  },
  {
   "cell_type": "markdown",
   "id": "e5b21f80-44a9-4b9e-8c04-d3f3a3891062",
   "metadata": {},
   "source": [
    "# Operations and Boolean series"
   ]
  },
  {
   "cell_type": "code",
   "execution_count": 38,
   "id": "b98d2eba-fc56-4874-a35e-2aba3bd3a3df",
   "metadata": {},
   "outputs": [
    {
     "data": {
      "text/plain": [
       "Rome            1436500.0\n",
       "Albuquerque      280500.0\n",
       "Socorro            4000.0\n",
       "Shanghai       13160000.0\n",
       "Name: City population in millions, dtype: float64"
      ]
     },
     "execution_count": 38,
     "metadata": {},
     "output_type": "execute_result"
    }
   ],
   "source": [
    "pop * 500000"
   ]
  },
  {
   "cell_type": "code",
   "execution_count": 39,
   "id": "31b4cdce-b6fa-41c8-96ba-62455d16f1f6",
   "metadata": {},
   "outputs": [
    {
     "data": {
      "text/plain": [
       "Rome            2.873\n",
       "Albuquerque     0.561\n",
       "Socorro         0.008\n",
       "Shanghai       26.320\n",
       "Name: City population in millions, dtype: float64"
      ]
     },
     "execution_count": 39,
     "metadata": {},
     "output_type": "execute_result"
    }
   ],
   "source": [
    "pop"
   ]
  },
  {
   "cell_type": "code",
   "execution_count": 40,
   "id": "304c92b5-e035-4151-a0ed-dd5340e19e7c",
   "metadata": {},
   "outputs": [
    {
     "data": {
      "text/plain": [
       "Rome           False\n",
       "Albuquerque     True\n",
       "Socorro         True\n",
       "Shanghai       False\n",
       "Name: City population in millions, dtype: bool"
      ]
     },
     "execution_count": 40,
     "metadata": {},
     "output_type": "execute_result"
    }
   ],
   "source": [
    "pop <= 2"
   ]
  },
  {
   "cell_type": "code",
   "execution_count": 41,
   "id": "2b825b74-25fd-4f2a-9f41-c0d14cb199a5",
   "metadata": {},
   "outputs": [
    {
     "data": {
      "text/plain": [
       "Rome         2.873\n",
       "Shanghai    26.320\n",
       "Name: City population in millions, dtype: float64"
      ]
     },
     "execution_count": 41,
     "metadata": {},
     "output_type": "execute_result"
    }
   ],
   "source": [
    "pop[pop>1]"
   ]
  },
  {
   "cell_type": "code",
   "execution_count": 42,
   "id": "c4265df5-f68c-45f4-bf82-21d7104c3dbf",
   "metadata": {},
   "outputs": [
    {
     "data": {
      "text/plain": [
       "Series([], Name: City population in millions, dtype: float64)"
      ]
     },
     "execution_count": 42,
     "metadata": {},
     "output_type": "execute_result"
    }
   ],
   "source": [
    "pop[pop==2]"
   ]
  },
  {
   "cell_type": "markdown",
   "id": "cb34cba1-710b-4dfe-bde3-028e9122299d",
   "metadata": {},
   "source": [
    "Returns nothing as nothing = 2"
   ]
  },
  {
   "cell_type": "code",
   "execution_count": 43,
   "id": "05b70cb8-76eb-4d2c-a107-e3e6ae36bbe1",
   "metadata": {},
   "outputs": [
    {
     "data": {
      "text/plain": [
       "7.4405"
      ]
     },
     "execution_count": 43,
     "metadata": {},
     "output_type": "execute_result"
    }
   ],
   "source": [
    "pop.mean()"
   ]
  },
  {
   "cell_type": "code",
   "execution_count": 44,
   "id": "f4c63014-d9b3-4270-af9d-0145ded8ac4e",
   "metadata": {},
   "outputs": [
    {
     "data": {
      "text/plain": [
       "12.647360106625678"
      ]
     },
     "execution_count": 44,
     "metadata": {},
     "output_type": "execute_result"
    }
   ],
   "source": [
    "pop.std()"
   ]
  },
  {
   "cell_type": "code",
   "execution_count": 45,
   "id": "ef5188d6-4584-4693-b7f5-d5af7e7f1dce",
   "metadata": {},
   "outputs": [
    {
     "data": {
      "text/plain": [
       "Rome           1.055357\n",
       "Albuquerque   -0.578034\n",
       "Socorro       -4.828314\n",
       "Shanghai       3.270329\n",
       "Name: City population in millions, dtype: float64"
      ]
     },
     "execution_count": 45,
     "metadata": {},
     "output_type": "execute_result"
    }
   ],
   "source": [
    "np.log(pop)"
   ]
  },
  {
   "cell_type": "code",
   "execution_count": 46,
   "id": "d8c7a3f9-a17c-4257-84ba-215e3b12c1b2",
   "metadata": {},
   "outputs": [],
   "source": [
    "pop['Socorro'] = 500"
   ]
  },
  {
   "cell_type": "code",
   "execution_count": 47,
   "id": "1f0bf319-64af-4c37-b703-9ba099b56d5b",
   "metadata": {},
   "outputs": [
    {
     "data": {
      "text/plain": [
       "Rome             2.873\n",
       "Albuquerque      0.561\n",
       "Socorro        500.000\n",
       "Shanghai        26.320\n",
       "Name: City population in millions, dtype: float64"
      ]
     },
     "execution_count": 47,
     "metadata": {},
     "output_type": "execute_result"
    }
   ],
   "source": [
    "pop"
   ]
  },
  {
   "cell_type": "code",
   "execution_count": 48,
   "id": "43b3a8f3-32cb-430a-9aef-d1278e39839f",
   "metadata": {},
   "outputs": [],
   "source": [
    "pop[pop < 50] = 5000"
   ]
  },
  {
   "cell_type": "code",
   "execution_count": 49,
   "id": "43c6c773-1a3e-42e5-8cf5-d82382ff3396",
   "metadata": {},
   "outputs": [
    {
     "data": {
      "text/plain": [
       "Rome           5000.0\n",
       "Albuquerque    5000.0\n",
       "Socorro         500.0\n",
       "Shanghai       5000.0\n",
       "Name: City population in millions, dtype: float64"
      ]
     },
     "execution_count": 49,
     "metadata": {},
     "output_type": "execute_result"
    }
   ],
   "source": [
    "pop"
   ]
  },
  {
   "cell_type": "markdown",
   "id": "372d7540-886a-49bc-b31a-5f59bd904ea4",
   "metadata": {},
   "source": [
    "# Other stuff"
   ]
  },
  {
   "cell_type": "code",
   "execution_count": 50,
   "id": "a4a1ea73-47bf-4d8e-a652-8b72632b11c6",
   "metadata": {
    "scrolled": true
   },
   "outputs": [
    {
     "data": {
      "text/plain": [
       "DatetimeIndex([          '2024-03-28 00:00:00',\n",
       "               '2024-03-28 10:17:08.571428571',\n",
       "               '2024-03-28 20:34:17.142857142',\n",
       "               '2024-03-29 06:51:25.714285714',\n",
       "               '2024-03-29 17:08:34.285714285',\n",
       "               '2024-03-30 03:25:42.857142857',\n",
       "               '2024-03-30 13:42:51.428571428',\n",
       "                         '2024-03-31 00:00:00',\n",
       "               '2024-03-31 10:17:08.571428571',\n",
       "               '2024-03-31 20:34:17.142857142',\n",
       "               '2024-04-01 06:51:25.714285714',\n",
       "               '2024-04-01 17:08:34.285714285',\n",
       "               '2024-04-02 03:25:42.857142857',\n",
       "               '2024-04-02 13:42:51.428571428',\n",
       "                         '2024-04-03 00:00:00',\n",
       "               '2024-04-03 10:17:08.571428571',\n",
       "               '2024-04-03 20:34:17.142857142',\n",
       "               '2024-04-04 06:51:25.714285714',\n",
       "               '2024-04-04 17:08:34.285714285',\n",
       "               '2024-04-05 03:25:42.857142857',\n",
       "               '2024-04-05 13:42:51.428571428',\n",
       "                         '2024-04-06 00:00:00',\n",
       "               '2024-04-06 10:17:08.571428571',\n",
       "               '2024-04-06 20:34:17.142857142',\n",
       "               '2024-04-07 06:51:25.714285714',\n",
       "               '2024-04-07 17:08:34.285714285',\n",
       "               '2024-04-08 03:25:42.857142857',\n",
       "               '2024-04-08 13:42:51.428571428',\n",
       "                         '2024-04-09 00:00:00',\n",
       "               '2024-04-09 10:17:08.571428571',\n",
       "               '2024-04-09 20:34:17.142857142',\n",
       "               '2024-04-10 06:51:25.714285714',\n",
       "               '2024-04-10 17:08:34.285714285',\n",
       "               '2024-04-11 03:25:42.857142857',\n",
       "               '2024-04-11 13:42:51.428571428',\n",
       "                         '2024-04-12 00:00:00',\n",
       "               '2024-04-12 10:17:08.571428571',\n",
       "               '2024-04-12 20:34:17.142857143',\n",
       "               '2024-04-13 06:51:25.714285714',\n",
       "               '2024-04-13 17:08:34.285714285',\n",
       "               '2024-04-14 03:25:42.857142857',\n",
       "               '2024-04-14 13:42:51.428571428',\n",
       "                         '2024-04-15 00:00:00',\n",
       "               '2024-04-15 10:17:08.571428571',\n",
       "               '2024-04-15 20:34:17.142857143',\n",
       "               '2024-04-16 06:51:25.714285714',\n",
       "               '2024-04-16 17:08:34.285714285',\n",
       "               '2024-04-17 03:25:42.857142857',\n",
       "               '2024-04-17 13:42:51.428571428',\n",
       "                         '2024-04-18 00:00:00'],\n",
       "              dtype='datetime64[ns]', freq=None)"
      ]
     },
     "execution_count": 50,
     "metadata": {},
     "output_type": "execute_result"
    }
   ],
   "source": [
    "from datetime import date\n",
    "today=date.today()\n",
    "pd.date_range(start='2024-3-28', end=today, periods=50)"
   ]
  },
  {
   "cell_type": "markdown",
   "id": "f1bf118a-bf7c-44d2-a296-ed0042fbd39f",
   "metadata": {},
   "source": [
    "https://pandas.pydata.org/docs/reference/api/pandas.Timestamp.html"
   ]
  },
  {
   "cell_type": "code",
   "execution_count": null,
   "id": "54c6e109-d0a5-4c73-92f1-0a6c83eafa80",
   "metadata": {},
   "outputs": [],
   "source": []
  }
 ],
 "metadata": {
  "kernelspec": {
   "display_name": "Python 3 (ipykernel)",
   "language": "python",
   "name": "python3"
  },
  "language_info": {
   "codemirror_mode": {
    "name": "ipython",
    "version": 3
   },
   "file_extension": ".py",
   "mimetype": "text/x-python",
   "name": "python",
   "nbconvert_exporter": "python",
   "pygments_lexer": "ipython3",
   "version": "3.11.8"
  }
 },
 "nbformat": 4,
 "nbformat_minor": 5
}
